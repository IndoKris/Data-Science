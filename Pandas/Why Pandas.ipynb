{
 "cells": [
  {
   "cell_type": "markdown",
   "id": "27480abc-271f-42dc-aec4-84fbbcd23b4b",
   "metadata": {},
   "source": [
    "## What is Pandas?\n",
    "- Pandas is a powerful, open-source Python library used for data manipulation, cleaning, and analysis. It provides two main data structures:\n",
    "\n",
    " ##### Series: A one-dimensional labeled array\n",
    "##### DataFrame: A two-dimensional labeled table (like an Excel sheet or SQL table)\n",
    "\n",
    "- Pandas makes working with structured data fast, expressive, and flexible.\n",
    "- If you're working with tables, spreadsheets, or CSVs in Python—Pandas is your best friend.\n",
    "\n",
    "## Why Use Pandas?\n",
    "- Pandas bridges the gap between NumPy performance and Excel-like usability. Pandas is built on top of NumPy.\n",
    "- With Pandas \\\n",
    "Load a CSV\t-           pd.read_csv()  \\\n",
    "Filter rows\t-\t        df[df[\"col\"] > 5] \\\n",
    "Group & summarize\t-   df.groupby() \\\n",
    "Merge two datasets - \tpd.merge() \n",
    "\n",
    "## Summary\n",
    "- Use Pandas when working with structured data.\n",
    "- It's the Swiss Army knife of data science."
   ]
  },
  {
   "cell_type": "code",
   "execution_count": null,
   "id": "22ad56ec-fc96-4862-ad90-b83fe49038a2",
   "metadata": {},
   "outputs": [],
   "source": []
  }
 ],
 "metadata": {
  "kernelspec": {
   "display_name": "Python 3 (ipykernel)",
   "language": "python",
   "name": "python3"
  },
  "language_info": {
   "codemirror_mode": {
    "name": "ipython",
    "version": 3
   },
   "file_extension": ".py",
   "mimetype": "text/x-python",
   "name": "python",
   "nbconvert_exporter": "python",
   "pygments_lexer": "ipython3",
   "version": "3.12.7"
  }
 },
 "nbformat": 4,
 "nbformat_minor": 5
}
