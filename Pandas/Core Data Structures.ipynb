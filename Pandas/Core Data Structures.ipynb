{
 "cells": [
  {
   "cell_type": "markdown",
   "id": "ec518c02-9a09-4938-a844-d17382a32b98",
   "metadata": {},
   "source": [
    "PANDAS - STANDS FOR PANEL DATA\n",
    "---\n",
    "## Core Data Structures in Pandas\n",
    "- Pandas is built on two main data structures:\n",
    "- Series → One-dimensional (like a single column in Excel)\n",
    "- DataFrame → Two-dimensional (like a full spreadsheet or SQL table)"
   ]
  },
  {
   "cell_type": "code",
   "execution_count": 6,
   "id": "ec8c7550-429a-4dfe-9bc4-23800a61b296",
   "metadata": {},
   "outputs": [],
   "source": [
    "import pandas as pd "
   ]
  },
  {
   "cell_type": "markdown",
   "id": "0b25133f-65ce-4d88-88db-9e544ab3e9d9",
   "metadata": {},
   "source": [
    "## Series — 1D Labeled Array\n",
    "### - A Series is like a list with labels (index)."
   ]
  },
  {
   "cell_type": "code",
   "execution_count": 7,
   "id": "7ab7caca-57e4-4c41-bb2e-605180e1d007",
   "metadata": {},
   "outputs": [
    {
     "name": "stdout",
     "output_type": "stream",
     "text": [
      "0    13\n",
      "1    63\n",
      "2    28\n",
      "3    42\n",
      "dtype: int64\n"
     ]
    }
   ],
   "source": [
    "s = pd.Series([13,63,28,42])\n",
    "print(s)"
   ]
  },
  {
   "cell_type": "code",
   "execution_count": 8,
   "id": "f1472475-9f27-4260-9051-83803c887ccf",
   "metadata": {},
   "outputs": [],
   "source": [
    "MarksData = pd.Series([84, 73, 58, 93, 87], index = [\"Krish\",\"Ravi\",\"Vidhan\",\"Harshal\",\"Rishabh\"])"
   ]
  },
  {
   "cell_type": "code",
   "execution_count": 9,
   "id": "1b5aff9f-96eb-452d-9790-276b400f33a0",
   "metadata": {},
   "outputs": [
    {
     "data": {
      "text/plain": [
       "Krish      84\n",
       "Ravi       73\n",
       "Vidhan     58\n",
       "Harshal    93\n",
       "Rishabh    87\n",
       "dtype: int64"
      ]
     },
     "execution_count": 9,
     "metadata": {},
     "output_type": "execute_result"
    }
   ],
   "source": [
    "MarksData"
   ]
  },
  {
   "cell_type": "markdown",
   "id": "8a597db8-0b5a-4b4c-a670-da54a7ce65ba",
   "metadata": {},
   "source": [
    "--- \n",
    "## DataFrame — 2D Labeled Table\n",
    "### - A DataFrame is like a dictionary of Series — multiple columns with labels."
   ]
  },
  {
   "cell_type": "code",
   "execution_count": 10,
   "id": "7afbd05d-294d-4a6b-a722-583a8a155d5b",
   "metadata": {},
   "outputs": [],
   "source": [
    "data = {\n",
    "\"name\": [\"Alice\", \"Bob\", \"Charlie\"],\n",
    "\"age\": [25, 30, 35],\n",
    "\"city\": [\"Delhi\", \"Mumbai\", \"Bangalore\"]\n",
    "}\n",
    "df = pd.DataFrame(data)"
   ]
  },
  {
   "cell_type": "code",
   "execution_count": 11,
   "id": "3c212ea1-5897-41f8-81ab-4af235dbba6c",
   "metadata": {},
   "outputs": [
    {
     "data": {
      "text/html": [
       "<div>\n",
       "<style scoped>\n",
       "    .dataframe tbody tr th:only-of-type {\n",
       "        vertical-align: middle;\n",
       "    }\n",
       "\n",
       "    .dataframe tbody tr th {\n",
       "        vertical-align: top;\n",
       "    }\n",
       "\n",
       "    .dataframe thead th {\n",
       "        text-align: right;\n",
       "    }\n",
       "</style>\n",
       "<table border=\"1\" class=\"dataframe\">\n",
       "  <thead>\n",
       "    <tr style=\"text-align: right;\">\n",
       "      <th></th>\n",
       "      <th>name</th>\n",
       "      <th>age</th>\n",
       "      <th>city</th>\n",
       "    </tr>\n",
       "  </thead>\n",
       "  <tbody>\n",
       "    <tr>\n",
       "      <th>0</th>\n",
       "      <td>Alice</td>\n",
       "      <td>25</td>\n",
       "      <td>Delhi</td>\n",
       "    </tr>\n",
       "    <tr>\n",
       "      <th>1</th>\n",
       "      <td>Bob</td>\n",
       "      <td>30</td>\n",
       "      <td>Mumbai</td>\n",
       "    </tr>\n",
       "    <tr>\n",
       "      <th>2</th>\n",
       "      <td>Charlie</td>\n",
       "      <td>35</td>\n",
       "      <td>Bangalore</td>\n",
       "    </tr>\n",
       "  </tbody>\n",
       "</table>\n",
       "</div>"
      ],
      "text/plain": [
       "      name  age       city\n",
       "0    Alice   25      Delhi\n",
       "1      Bob   30     Mumbai\n",
       "2  Charlie   35  Bangalore"
      ]
     },
     "execution_count": 11,
     "metadata": {},
     "output_type": "execute_result"
    }
   ],
   "source": [
    "df"
   ]
  },
  {
   "cell_type": "code",
   "execution_count": null,
   "id": "1a525557-7bec-4715-b936-56c0b9b695b8",
   "metadata": {},
   "outputs": [],
   "source": []
  }
 ],
 "metadata": {
  "kernelspec": {
   "display_name": "Python 3 (ipykernel)",
   "language": "python",
   "name": "python3"
  },
  "language_info": {
   "codemirror_mode": {
    "name": "ipython",
    "version": 3
   },
   "file_extension": ".py",
   "mimetype": "text/x-python",
   "name": "python",
   "nbconvert_exporter": "python",
   "pygments_lexer": "ipython3",
   "version": "3.12.7"
  }
 },
 "nbformat": 4,
 "nbformat_minor": 5
}
