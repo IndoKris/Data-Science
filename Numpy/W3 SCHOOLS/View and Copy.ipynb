{
 "cells": [
  {
   "cell_type": "markdown",
   "id": "1be42651-60ff-4478-8606-8736c0428030",
   "metadata": {},
   "source": [
    "# The Difference Between Copy and View\n",
    "## The main difference between a copy and a view of an array is that the copy is a new array, and the view is just a view of the original array.\n",
    "- The copy owns the data and any changes made to the copy will not affect original array, and any changes made to the original array will not affect the copy.\n",
    "\n",
    "- The view does not own the data and any changes made to the view will affect the original array, and any changes made to the original array will affect the view."
   ]
  },
  {
   "cell_type": "code",
   "execution_count": 1,
   "id": "1c1e7b06-2000-4434-a076-b36908306675",
   "metadata": {},
   "outputs": [],
   "source": [
    "import numpy as np "
   ]
  },
  {
   "cell_type": "code",
   "execution_count": 2,
   "id": "70db31cf-1ae0-4a53-9b0c-27d8f759722a",
   "metadata": {},
   "outputs": [],
   "source": [
    "# view \n",
    "arr = np.array([12,83,72,92,64], dtype = \"int32\")"
   ]
  },
  {
   "cell_type": "code",
   "execution_count": 3,
   "id": "1bbe0b9c-43c6-407b-8ea7-c977b9ab21fd",
   "metadata": {},
   "outputs": [],
   "source": [
    "# using view function \n",
    "v_arr = arr.view()\n",
    "v_arr[0] = 777"
   ]
  },
  {
   "cell_type": "code",
   "execution_count": 4,
   "id": "c9523843-db0f-46cb-9ab3-695ba4cd75b9",
   "metadata": {},
   "outputs": [
    {
     "name": "stdout",
     "output_type": "stream",
     "text": [
      "Original array : [777  83  72  92  64]\n",
      "View version of array :  [777  83  72  92  64]\n"
     ]
    }
   ],
   "source": [
    "# printing both \n",
    "print(\"Original array :\", arr)\n",
    "print(\"View version of array : \", v_arr)"
   ]
  },
  {
   "cell_type": "code",
   "execution_count": 5,
   "id": "3d5269ab-d80d-468e-90b9-937d950edc5f",
   "metadata": {},
   "outputs": [],
   "source": [
    "# using copy function \n",
    "c_arr = arr.copy()\n",
    "c_arr[0] = 696969"
   ]
  },
  {
   "cell_type": "code",
   "execution_count": 6,
   "id": "3be82f30-e115-4fef-b1ff-df86d4a0420c",
   "metadata": {},
   "outputs": [
    {
     "name": "stdout",
     "output_type": "stream",
     "text": [
      "Original array : [777  83  72  92  64]\n",
      "Copy version of array :  [696969     83     72     92     64]\n"
     ]
    }
   ],
   "source": [
    "# printing both \n",
    "print(\"Original array :\", arr)\n",
    "print(\"Copy version of array : \", c_arr)"
   ]
  },
  {
   "cell_type": "markdown",
   "id": "37eaf77c-77af-497c-afde-f82a902560ff",
   "metadata": {},
   "source": [
    "# Check if Array Owns its Data\n",
    "- As mentioned above, copies owns the data, and views does not own the data, but how can we check this?\n",
    "\n",
    "- Every NumPy array has the attribute base that returns None if the array owns the data.\n",
    "\n",
    "- Otherwise, the base  attribute refers to the original object."
   ]
  },
  {
   "cell_type": "code",
   "execution_count": 7,
   "id": "d3865e1d-ca5b-4361-a4c9-14108ea2332a",
   "metadata": {},
   "outputs": [
    {
     "name": "stdout",
     "output_type": "stream",
     "text": [
      "None\n",
      "[1 2 3 4 5]\n"
     ]
    }
   ],
   "source": [
    "import numpy as np\n",
    "\n",
    "arr = np.array([1, 2, 3, 4, 5])\n",
    "\n",
    "x = arr.copy()\n",
    "y = arr.view()\n",
    "\n",
    "print(x.base)\n",
    "print(y.base)"
   ]
  },
  {
   "cell_type": "code",
   "execution_count": 9,
   "id": "6e088de0-be7e-4b72-924b-a85d590bfc2f",
   "metadata": {},
   "outputs": [
    {
     "name": "stdout",
     "output_type": "stream",
     "text": [
      "None\n"
     ]
    }
   ],
   "source": [
    "# checking for original arr\n",
    "print(arr.base)"
   ]
  }
 ],
 "metadata": {
  "kernelspec": {
   "display_name": "Python 3 (ipykernel)",
   "language": "python",
   "name": "python3"
  },
  "language_info": {
   "codemirror_mode": {
    "name": "ipython",
    "version": 3
   },
   "file_extension": ".py",
   "mimetype": "text/x-python",
   "name": "python",
   "nbconvert_exporter": "python",
   "pygments_lexer": "ipython3",
   "version": "3.12.7"
  }
 },
 "nbformat": 4,
 "nbformat_minor": 5
}
