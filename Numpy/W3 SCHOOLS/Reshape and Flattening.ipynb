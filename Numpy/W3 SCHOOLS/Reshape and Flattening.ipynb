{
 "cells": [
  {
   "cell_type": "markdown",
   "id": "2ea1abfc-a5c5-494b-9753-27f3df9287a3",
   "metadata": {},
   "source": [
    "# Reshape array Returns Copy or View?"
   ]
  },
  {
   "cell_type": "code",
   "execution_count": 1,
   "id": "0d1f7178-a5a8-4484-9a8a-3aa4466ade59",
   "metadata": {},
   "outputs": [],
   "source": [
    "import numpy as np\n",
    "\n",
    "arr = np.array([1, 2, 3, 4, 5, 6, 7, 8])"
   ]
  },
  {
   "cell_type": "code",
   "execution_count": 2,
   "id": "f18a10b4-ee90-4dda-a582-b2d819e56d92",
   "metadata": {},
   "outputs": [
    {
     "data": {
      "text/plain": [
       "8"
      ]
     },
     "execution_count": 2,
     "metadata": {},
     "output_type": "execute_result"
    }
   ],
   "source": [
    "arr.size"
   ]
  },
  {
   "cell_type": "code",
   "execution_count": 3,
   "id": "d746df97-b2fa-410b-95bc-6dd87dd6e244",
   "metadata": {},
   "outputs": [
    {
     "name": "stdout",
     "output_type": "stream",
     "text": [
      "[1 2 3 4 5 6 7 8]\n"
     ]
    }
   ],
   "source": [
    "print(arr.reshape(2, 4).base)"
   ]
  },
  {
   "cell_type": "markdown",
   "id": "891f6271-0eeb-44ed-a626-35bab906ebc8",
   "metadata": {},
   "source": [
    "- The example above returns the original array, so it is a view.\n",
    "\n"
   ]
  },
  {
   "cell_type": "markdown",
   "id": "f36996ef-d66f-4c9a-8858-692218d01472",
   "metadata": {},
   "source": [
    "---\n",
    "## Unknown Dimension\n",
    "- You are allowed to have one \"unknown\" dimension.\n",
    "\n",
    "- Meaning that you do not have to specify an exact number for one of the dimensions in the reshape method.\n",
    "\n",
    "- Pass -1 as the value, and NumPy will calculate this number for you.\n",
    "\n",
    "- Note: We can not pass -1 to more than one dimension."
   ]
  },
  {
   "cell_type": "code",
   "execution_count": 4,
   "id": "a719bc5f-9ed1-4067-88cc-bf54e198ae49",
   "metadata": {},
   "outputs": [
    {
     "name": "stdout",
     "output_type": "stream",
     "text": [
      "[[[1 2]\n",
      "  [3 4]]\n",
      "\n",
      " [[5 6]\n",
      "  [7 8]]]\n"
     ]
    }
   ],
   "source": [
    "import numpy as np\n",
    "\n",
    "arr = np.array([1, 2, 3, 4, 5, 6, 7, 8])\n",
    "\n",
    "newarr = arr.reshape(2, 2, -1)\n",
    "\n",
    "print(newarr)"
   ]
  },
  {
   "cell_type": "code",
   "execution_count": 5,
   "id": "8ee85cdb-b832-41e4-918c-8523e53f5624",
   "metadata": {},
   "outputs": [],
   "source": [
    "arr = np.array([1, 2, 3, 4, 5, 6, 7, 8])\n"
   ]
  },
  {
   "cell_type": "code",
   "execution_count": 7,
   "id": "42e36926-2700-4c05-b25b-0ab89545accf",
   "metadata": {},
   "outputs": [
    {
     "data": {
      "text/plain": [
       "array([[1, 2, 3, 4],\n",
       "       [5, 6, 7, 8]])"
      ]
     },
     "execution_count": 7,
     "metadata": {},
     "output_type": "execute_result"
    }
   ],
   "source": [
    "arr.reshape(2,-1)"
   ]
  },
  {
   "cell_type": "markdown",
   "id": "f8879c58-0ff9-42d1-ac78-45ccabe8713b",
   "metadata": {},
   "source": [
    "--- \n",
    "## Flattening the arrays\n",
    "- Flattening array means converting a multidimensional array into a 1D array.\n",
    "\n",
    "- We can use reshape(-1) to do this."
   ]
  },
  {
   "cell_type": "code",
   "execution_count": 8,
   "id": "62104a05-8438-4138-8d05-3f6e041bdd51",
   "metadata": {},
   "outputs": [],
   "source": [
    "arr = np.array([[1, 2, 3], [4, 5, 6]])\n"
   ]
  },
  {
   "cell_type": "code",
   "execution_count": 9,
   "id": "25ff6286-827c-43bc-a348-4554ba3fb981",
   "metadata": {},
   "outputs": [
    {
     "data": {
      "text/plain": [
       "array([1, 2, 3, 4, 5, 6])"
      ]
     },
     "execution_count": 9,
     "metadata": {},
     "output_type": "execute_result"
    }
   ],
   "source": [
    "arr.reshape(-1) # flattening the array"
   ]
  },
  {
   "cell_type": "code",
   "execution_count": 10,
   "id": "bfbf8ccb-a6a0-47a6-b875-05eb402e327e",
   "metadata": {},
   "outputs": [
    {
     "data": {
      "text/plain": [
       "array([[1, 2, 3],\n",
       "       [4, 5, 6]])"
      ]
     },
     "execution_count": 10,
     "metadata": {},
     "output_type": "execute_result"
    }
   ],
   "source": [
    "arr"
   ]
  },
  {
   "cell_type": "code",
   "execution_count": 11,
   "id": "6058f6f1-59b3-4fcf-aec2-dd36a98b1f25",
   "metadata": {},
   "outputs": [
    {
     "data": {
      "text/plain": [
       "array([1, 2, 3, 4, 5, 6])"
      ]
     },
     "execution_count": 11,
     "metadata": {},
     "output_type": "execute_result"
    }
   ],
   "source": [
    "# using flatten \n",
    "arr.flatten()"
   ]
  },
  {
   "cell_type": "code",
   "execution_count": 16,
   "id": "c7a40a06-2cbe-422e-ac2e-a42f11bcc58a",
   "metadata": {},
   "outputs": [
    {
     "name": "stdout",
     "output_type": "stream",
     "text": [
      "[[69  2  3]\n",
      " [ 4  5  6]]\n"
     ]
    }
   ],
   "source": [
    "arr = np.array([[1, 2, 3], [4, 5, 6]])\n",
    "arr.reshape(-1)[0] = 69\n",
    "print(arr)"
   ]
  },
  {
   "cell_type": "code",
   "execution_count": 23,
   "id": "3e0d883b-6073-424d-959e-4770be9db7ac",
   "metadata": {},
   "outputs": [
    {
     "data": {
      "text/plain": [
       "69"
      ]
     },
     "execution_count": 23,
     "metadata": {},
     "output_type": "execute_result"
    }
   ],
   "source": [
    "arr.flatten()[0]"
   ]
  },
  {
   "cell_type": "code",
   "execution_count": 27,
   "id": "333723a2-bae9-4bfe-98de-79b52855fb2a",
   "metadata": {},
   "outputs": [
    {
     "name": "stdout",
     "output_type": "stream",
     "text": [
      "[69  2  3  4  5  6]\n"
     ]
    }
   ],
   "source": [
    "flat_arr = arr.flatten()\n",
    "print(flat_arr)"
   ]
  },
  {
   "cell_type": "code",
   "execution_count": 28,
   "id": "41eb87f3-cbeb-4667-9486-d8b357bc75fb",
   "metadata": {},
   "outputs": [],
   "source": [
    "flat_arr[0] = 777"
   ]
  },
  {
   "cell_type": "code",
   "execution_count": 29,
   "id": "f339f664-e724-4952-a6a8-69decc49ee5d",
   "metadata": {},
   "outputs": [
    {
     "data": {
      "text/plain": [
       "array([777,   2,   3,   4,   5,   6])"
      ]
     },
     "execution_count": 29,
     "metadata": {},
     "output_type": "execute_result"
    }
   ],
   "source": [
    "flat_arr"
   ]
  },
  {
   "cell_type": "code",
   "execution_count": 30,
   "id": "9606083e-5d10-4e96-a75b-1429566dfada",
   "metadata": {},
   "outputs": [
    {
     "data": {
      "text/plain": [
       "array([[69,  2,  3],\n",
       "       [ 4,  5,  6]])"
      ]
     },
     "execution_count": 30,
     "metadata": {},
     "output_type": "execute_result"
    }
   ],
   "source": [
    "arr"
   ]
  },
  {
   "cell_type": "code",
   "execution_count": 31,
   "id": "fc434143-ac90-47f6-87fa-1228c6e0c860",
   "metadata": {},
   "outputs": [],
   "source": [
    "# flatten array creates a copy while reshape creates a view "
   ]
  },
  {
   "cell_type": "markdown",
   "id": "cb0e6baf-1388-416d-9ae2-48af80647e51",
   "metadata": {},
   "source": [
    "---\n",
    "## Ravel ?\n",
    "- returns a view just like reshape\n",
    "- while \"Flatten\" returns a copy"
   ]
  },
  {
   "cell_type": "code",
   "execution_count": 32,
   "id": "dd9f3037-b4a5-4c13-9de6-65ad0ae4b770",
   "metadata": {},
   "outputs": [
    {
     "data": {
      "text/plain": [
       "array([[69,  2,  3],\n",
       "       [ 4,  5,  6]])"
      ]
     },
     "execution_count": 32,
     "metadata": {},
     "output_type": "execute_result"
    }
   ],
   "source": [
    "arr"
   ]
  },
  {
   "cell_type": "code",
   "execution_count": 33,
   "id": "fbdb07ba-aa4d-42ef-bcea-240fec531bff",
   "metadata": {},
   "outputs": [
    {
     "data": {
      "text/plain": [
       "array([69,  2,  3,  4,  5,  6])"
      ]
     },
     "execution_count": 33,
     "metadata": {},
     "output_type": "execute_result"
    }
   ],
   "source": [
    "arr.ravel()"
   ]
  },
  {
   "cell_type": "code",
   "execution_count": 34,
   "id": "4b4a8a6f-9e26-4335-a27c-8e6a7bafb953",
   "metadata": {},
   "outputs": [],
   "source": [
    "raveled_arr = arr.ravel()\n",
    "raveled_arr[0] = 11111111"
   ]
  },
  {
   "cell_type": "code",
   "execution_count": 35,
   "id": "a046315d-f558-4b62-9d83-b3e56c3af029",
   "metadata": {},
   "outputs": [
    {
     "data": {
      "text/plain": [
       "array([[11111111,        2,        3],\n",
       "       [       4,        5,        6]])"
      ]
     },
     "execution_count": 35,
     "metadata": {},
     "output_type": "execute_result"
    }
   ],
   "source": [
    "raveled_arr.base"
   ]
  }
 ],
 "metadata": {
  "kernelspec": {
   "display_name": "Python 3 (ipykernel)",
   "language": "python",
   "name": "python3"
  },
  "language_info": {
   "codemirror_mode": {
    "name": "ipython",
    "version": 3
   },
   "file_extension": ".py",
   "mimetype": "text/x-python",
   "name": "python",
   "nbconvert_exporter": "python",
   "pygments_lexer": "ipython3",
   "version": "3.12.7"
  }
 },
 "nbformat": 4,
 "nbformat_minor": 5
}
