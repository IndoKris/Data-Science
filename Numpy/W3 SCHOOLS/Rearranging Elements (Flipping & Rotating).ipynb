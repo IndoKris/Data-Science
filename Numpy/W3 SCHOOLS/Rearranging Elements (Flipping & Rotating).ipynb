{
 "cells": [
  {
   "cell_type": "markdown",
   "id": "5bd2f081-7783-4ffa-be0a-ee6c86560b01",
   "metadata": {},
   "source": [
    "# Rearranging Elements (Flipping & Rotating)\n",
    "## 1. flip()\n",
    "- Reverses array elements along the specified axis.\n",
    "- Can work on multiple dimensions (e.g., flipping rows or columns).\n",
    "\n",
    "## 2. fliplr()\n",
    "- Flip array in the left/right (horizontal) direction.\n",
    "- Think of this as a mirror on the vertical axis.\n",
    "\n",
    "## 3. flipud()\n",
    "- Flip array in the up/down (vertical) direction.\n",
    "- Think of this as a mirror on the horizontal axis.\n",
    "\n",
    "## 4. rot90(k=1)\n",
    "- Rotates an array by 90 degrees in the counter-clockwise direction.\n",
    "- You can rotate multiple times: k=1 for 90°, k=2 for 180°, etc.\n",
    "\n"
   ]
  },
  {
   "cell_type": "code",
   "execution_count": 5,
   "id": "26189161-91e5-4a88-9013-92e3f9d97601",
   "metadata": {},
   "outputs": [],
   "source": [
    "import numpy as np \n",
    "\n",
    "arr = np.array([[1, 2, 3],\n",
    "                [4, 5, 6],\n",
    "                [7, 8, 9]])\n",
    "\n",
    "flipped_rows = np.flip(arr, axis=0)  # Flips up/down\n",
    "flipped_cols = np.flip(arr, axis=1)  # Flips left/right"
   ]
  },
  {
   "cell_type": "code",
   "execution_count": 6,
   "id": "0750935d-596a-4885-a8f2-f334e86a2b82",
   "metadata": {},
   "outputs": [
    {
     "data": {
      "text/plain": [
       "array([[7, 8, 9],\n",
       "       [4, 5, 6],\n",
       "       [1, 2, 3]])"
      ]
     },
     "execution_count": 6,
     "metadata": {},
     "output_type": "execute_result"
    }
   ],
   "source": [
    "flipped_rows"
   ]
  },
  {
   "cell_type": "code",
   "execution_count": 7,
   "id": "f8785bf9-9d39-43aa-ac4f-3b1d15b9fc4d",
   "metadata": {},
   "outputs": [
    {
     "data": {
      "text/plain": [
       "array([[3, 2, 1],\n",
       "       [6, 5, 4],\n",
       "       [9, 8, 7]])"
      ]
     },
     "execution_count": 7,
     "metadata": {},
     "output_type": "execute_result"
    }
   ],
   "source": [
    "flipped_cols"
   ]
  },
  {
   "cell_type": "code",
   "execution_count": 8,
   "id": "534fda97-893e-4da3-9e17-f28ebade95ea",
   "metadata": {},
   "outputs": [],
   "source": [
    "flipped_lr = np.fliplr(arr)"
   ]
  },
  {
   "cell_type": "code",
   "execution_count": 9,
   "id": "5f4dc00f-dda9-48b9-ac01-f70e4e465d20",
   "metadata": {},
   "outputs": [
    {
     "name": "stdout",
     "output_type": "stream",
     "text": [
      "[[3 2 1]\n",
      " [6 5 4]\n",
      " [9 8 7]]\n"
     ]
    }
   ],
   "source": [
    "print(flipped_lr)"
   ]
  },
  {
   "cell_type": "code",
   "execution_count": 11,
   "id": "20ac71e5-8fb1-4e2f-b079-3c3291f2c717",
   "metadata": {},
   "outputs": [
    {
     "data": {
      "text/plain": [
       "array([[7, 8, 9],\n",
       "       [4, 5, 6],\n",
       "       [1, 2, 3]])"
      ]
     },
     "execution_count": 11,
     "metadata": {},
     "output_type": "execute_result"
    }
   ],
   "source": [
    "np.flipud(arr)"
   ]
  },
  {
   "cell_type": "code",
   "execution_count": 12,
   "id": "5868860b-280c-46c2-ae35-b7366b30bd96",
   "metadata": {},
   "outputs": [
    {
     "data": {
      "text/plain": [
       "array([[1, 2, 3],\n",
       "       [4, 5, 6],\n",
       "       [7, 8, 9]])"
      ]
     },
     "execution_count": 12,
     "metadata": {},
     "output_type": "execute_result"
    }
   ],
   "source": [
    "arr"
   ]
  },
  {
   "cell_type": "code",
   "execution_count": 13,
   "id": "56fd175a-d5cb-40d9-b74e-3965f22825fb",
   "metadata": {},
   "outputs": [
    {
     "data": {
      "text/plain": [
       "array([[3, 6, 9],\n",
       "       [2, 5, 8],\n",
       "       [1, 4, 7]])"
      ]
     },
     "execution_count": 13,
     "metadata": {},
     "output_type": "execute_result"
    }
   ],
   "source": [
    "np.rot90(arr, k=1)"
   ]
  },
  {
   "cell_type": "code",
   "execution_count": 14,
   "id": "4a5aa7a2-a936-4089-ae96-a565d84889e0",
   "metadata": {},
   "outputs": [
    {
     "data": {
      "text/plain": [
       "array([[9, 8, 7],\n",
       "       [6, 5, 4],\n",
       "       [3, 2, 1]])"
      ]
     },
     "execution_count": 14,
     "metadata": {},
     "output_type": "execute_result"
    }
   ],
   "source": [
    "np.rot90(arr, k=2)"
   ]
  },
  {
   "cell_type": "markdown",
   "id": "93d1b1e6-c37d-43b8-946f-411b6cfe5ec7",
   "metadata": {},
   "source": [
    "--- "
   ]
  },
  {
   "cell_type": "code",
   "execution_count": 15,
   "id": "338d0fe8-fcb8-45ac-89b3-4429d1bb7579",
   "metadata": {},
   "outputs": [],
   "source": [
    "arr = np.array([[1, 2, 3],\n",
    "                [4, 5, 6],\n",
    "                [7, 8, 9],\n",
    "                [10,11,12]])"
   ]
  },
  {
   "cell_type": "code",
   "execution_count": 17,
   "id": "de94a93f-7da4-44fb-9094-16ea97c2ae75",
   "metadata": {},
   "outputs": [
    {
     "data": {
      "text/plain": [
       "array([[10, 11, 12],\n",
       "       [ 7,  8,  9],\n",
       "       [ 4,  5,  6],\n",
       "       [ 1,  2,  3]])"
      ]
     },
     "execution_count": 17,
     "metadata": {},
     "output_type": "execute_result"
    }
   ],
   "source": [
    "np.flip(arr,axis = 0 )"
   ]
  },
  {
   "cell_type": "code",
   "execution_count": 18,
   "id": "952ddaff-64b6-47f5-a017-383e12cfe935",
   "metadata": {},
   "outputs": [
    {
     "data": {
      "text/plain": [
       "array([[ 3,  2,  1],\n",
       "       [ 6,  5,  4],\n",
       "       [ 9,  8,  7],\n",
       "       [12, 11, 10]])"
      ]
     },
     "execution_count": 18,
     "metadata": {},
     "output_type": "execute_result"
    }
   ],
   "source": [
    "np.flip(arr,axis = 1 )"
   ]
  },
  {
   "cell_type": "code",
   "execution_count": 19,
   "id": "6f0e87c7-ec0a-4ca2-8e77-d23fbd9f85a8",
   "metadata": {},
   "outputs": [],
   "source": [
    "arr = np.array([[1, 2, 3, 4],\n",
    "                [5, 6, 7, 8],\n",
    "                [9, 10, 11, 12],\n",
    "                [13, 14, 15, 16]])"
   ]
  },
  {
   "cell_type": "code",
   "execution_count": 22,
   "id": "30db1ef6-bdf5-4f7d-aaa7-6d449a5c224b",
   "metadata": {},
   "outputs": [
    {
     "data": {
      "text/plain": [
       "array([[16, 15, 14, 13],\n",
       "       [12, 11, 10,  9],\n",
       "       [ 8,  7,  6,  5],\n",
       "       [ 4,  3,  2,  1]])"
      ]
     },
     "execution_count": 22,
     "metadata": {},
     "output_type": "execute_result"
    }
   ],
   "source": [
    "np.flip(arr)"
   ]
  },
  {
   "cell_type": "code",
   "execution_count": 23,
   "id": "747eb433-d902-4ead-b1f1-4cb11421e23c",
   "metadata": {},
   "outputs": [
    {
     "data": {
      "text/plain": [
       "array([[13, 14, 15, 16],\n",
       "       [ 9, 10, 11, 12],\n",
       "       [ 5,  6,  7,  8],\n",
       "       [ 1,  2,  3,  4]])"
      ]
     },
     "execution_count": 23,
     "metadata": {},
     "output_type": "execute_result"
    }
   ],
   "source": [
    "np.flip(arr, axis = 0)"
   ]
  },
  {
   "cell_type": "code",
   "execution_count": 24,
   "id": "a4052b80-ffa3-4172-9231-ee3d5c2e389a",
   "metadata": {},
   "outputs": [
    {
     "data": {
      "text/plain": [
       "array([[ 4,  3,  2,  1],\n",
       "       [ 8,  7,  6,  5],\n",
       "       [12, 11, 10,  9],\n",
       "       [16, 15, 14, 13]])"
      ]
     },
     "execution_count": 24,
     "metadata": {},
     "output_type": "execute_result"
    }
   ],
   "source": [
    "np.flip(arr, axis = 1)"
   ]
  },
  {
   "cell_type": "code",
   "execution_count": 25,
   "id": "fe2992c8-614b-4b59-976a-a6b9780b1011",
   "metadata": {},
   "outputs": [
    {
     "data": {
      "text/plain": [
       "array([[ 4,  3,  2,  1],\n",
       "       [ 8,  7,  6,  5],\n",
       "       [12, 11, 10,  9],\n",
       "       [16, 15, 14, 13]])"
      ]
     },
     "execution_count": 25,
     "metadata": {},
     "output_type": "execute_result"
    }
   ],
   "source": [
    "np.fliplr(arr)"
   ]
  },
  {
   "cell_type": "code",
   "execution_count": 27,
   "id": "f3245951-8ed5-437a-9803-ac1da382bfc4",
   "metadata": {},
   "outputs": [
    {
     "data": {
      "text/plain": [
       "array([[13, 14, 15, 16],\n",
       "       [ 9, 10, 11, 12],\n",
       "       [ 5,  6,  7,  8],\n",
       "       [ 1,  2,  3,  4]])"
      ]
     },
     "execution_count": 27,
     "metadata": {},
     "output_type": "execute_result"
    }
   ],
   "source": [
    "np.flipud(arr)"
   ]
  }
 ],
 "metadata": {
  "kernelspec": {
   "display_name": "Python 3 (ipykernel)",
   "language": "python",
   "name": "python3"
  },
  "language_info": {
   "codemirror_mode": {
    "name": "ipython",
    "version": 3
   },
   "file_extension": ".py",
   "mimetype": "text/x-python",
   "name": "python",
   "nbconvert_exporter": "python",
   "pygments_lexer": "ipython3",
   "version": "3.12.7"
  }
 },
 "nbformat": 4,
 "nbformat_minor": 5
}
