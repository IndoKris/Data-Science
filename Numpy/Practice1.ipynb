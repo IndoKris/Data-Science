{
 "cells": [
  {
   "cell_type": "markdown",
   "id": "6f180d2a-1c02-4c4b-82f5-cf58603077de",
   "metadata": {},
   "source": [
    "# Exercises for Practice\n",
    "- Create a 3×3 array filled with random numbers and print its shape.\n",
    "- Convert an array of floats [1.1, 2.2, 3.3] into integers.\n",
    "- Use fancy indexing to extract even numbers from [1, 2, 3, 4, 5, 6].\n",
    "- Reshape a 1D array of size 9 into a 3×3 matrix."
   ]
  },
  {
   "cell_type": "code",
   "execution_count": 2,
   "id": "c365e734-ab36-4b83-9011-264bc8e5353e",
   "metadata": {},
   "outputs": [
    {
     "data": {
      "text/plain": [
       "(3, 3)"
      ]
     },
     "execution_count": 2,
     "metadata": {},
     "output_type": "execute_result"
    }
   ],
   "source": [
    "import numpy as np\n",
    "arr = np.array([[29,23,73],[35,75,18],[25,75,82]])\n",
    "arr.shape"
   ]
  },
  {
   "cell_type": "code",
   "execution_count": 4,
   "id": "4dc55cfe-d351-4e55-91a4-f18bd59cf368",
   "metadata": {},
   "outputs": [
    {
     "data": {
      "text/plain": [
       "array([[1, 2, 3]], dtype=int32)"
      ]
     },
     "execution_count": 4,
     "metadata": {},
     "output_type": "execute_result"
    }
   ],
   "source": [
    "f_array = np.array([[1.1, 2.2, 3.3]])\n",
    "f_array.astype(np.int32)"
   ]
  },
  {
   "cell_type": "code",
   "execution_count": 6,
   "id": "3f2bd648-05fe-4d58-9e31-006f7979ef0f",
   "metadata": {},
   "outputs": [
    {
     "name": "stdout",
     "output_type": "stream",
     "text": [
      "[1 2 3]\n"
     ]
    }
   ],
   "source": [
    "#other way of doing so \n",
    "arr = np.array([1.1, 2.2, 3.3], dtype=\"int32\")\n",
    "print(arr)"
   ]
  },
  {
   "cell_type": "code",
   "execution_count": 7,
   "id": "c487c04c-c473-480d-a40a-eaa41505a304",
   "metadata": {},
   "outputs": [
    {
     "name": "stdout",
     "output_type": "stream",
     "text": [
      "[2 4 6]\n"
     ]
    }
   ],
   "source": [
    "arr1 = np.array([1, 2, 3, 4, 5, 6])\n",
    "mask = (arr1%2==0)\n",
    "print(arr1[mask])"
   ]
  },
  {
   "cell_type": "code",
   "execution_count": 8,
   "id": "eab6526b-79fa-43e5-83c2-c427cdb761cc",
   "metadata": {},
   "outputs": [
    {
     "data": {
      "text/plain": [
       "array([1, 2, 3, 4, 5, 6])"
      ]
     },
     "execution_count": 8,
     "metadata": {},
     "output_type": "execute_result"
    }
   ],
   "source": [
    "arr1 "
   ]
  },
  {
   "cell_type": "code",
   "execution_count": 10,
   "id": "07355538-c438-4736-a2ce-cd588812a489",
   "metadata": {},
   "outputs": [
    {
     "name": "stdout",
     "output_type": "stream",
     "text": [
      "9\n",
      "after changing\n",
      "9\n"
     ]
    },
    {
     "data": {
      "text/plain": [
       "array([[ 64,  48, 893],\n",
       "       [ 26,  94,  72],\n",
       "       [ 82,  63, 912]])"
      ]
     },
     "execution_count": 10,
     "metadata": {},
     "output_type": "execute_result"
    }
   ],
   "source": [
    "arr1d = np.array([64,48,893,26,94,72,82,63,912])\n",
    "print(f\"Before changing : arr1d.size)\n",
    "print(\"after changing\")\n",
    "arr1d = arr1d.reshape((3,3))\n",
    "print(arr1d.size)\n",
    "arr1d"
   ]
  },
  {
   "cell_type": "code",
   "execution_count": null,
   "id": "8d8444bf-03ae-42c6-abc4-adcc53cb4d85",
   "metadata": {},
   "outputs": [],
   "source": []
  }
 ],
 "metadata": {
  "kernelspec": {
   "display_name": "Python 3 (ipykernel)",
   "language": "python",
   "name": "python3"
  },
  "language_info": {
   "codemirror_mode": {
    "name": "ipython",
    "version": 3
   },
   "file_extension": ".py",
   "mimetype": "text/x-python",
   "name": "python",
   "nbconvert_exporter": "python",
   "pygments_lexer": "ipython3",
   "version": "3.13.2"
  }
 },
 "nbformat": 4,
 "nbformat_minor": 5
}
