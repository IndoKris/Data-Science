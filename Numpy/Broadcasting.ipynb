{
 "cells": [
  {
   "cell_type": "markdown",
   "id": "5b54941f-8a95-416f-9f9c-a5cb25f9ffc7",
   "metadata": {},
   "source": [
    "# Broadcasting in NumPy\n",
    "## We can code faster with vectorization and broadcasting in NumPy. These techniques are key to boosting performance in numerical operations by avoiding slow loops and memory inefficiency.\n",
    "## While Python loops are convenient, they don’t take advantage of the optimized memory and computation that libraries like NumPy provide."
   ]
  },
  {
   "cell_type": "code",
   "execution_count": 2,
   "id": "c038cbbe-7335-4714-b8a8-98389afa6d71",
   "metadata": {},
   "outputs": [
    {
     "name": "stdout",
     "output_type": "stream",
     "text": [
      "[11 12 13 14 15]\n"
     ]
    }
   ],
   "source": [
    "''' Broadcasting with Scalar : \n",
    "Broadcasting is often used when you want to perform an operation on an array\n",
    "and a scalar value (e.g., add a number to all elements of an array). ''' \n",
    "import numpy as np \n",
    "arr = np.array([1, 2, 3, 4, 5])\n",
    "result = arr + 10 # Broadcasting: 10 is added to all elements\n",
    "print(result) # Output: [11 12 13 14 15]"
   ]
  },
  {
   "cell_type": "code",
   "execution_count": 5,
   "id": "03d3b989-fc70-444d-bd21-eff1db85b453",
   "metadata": {},
   "outputs": [],
   "source": [
    "# Broadcasting a 2D Array and a 1D Array\n",
    "arr1 = np.array([10,20,30,40,50])\n",
    "arr2 = np.array([[5,5,5,5,5],[5,5,5,5,5]])\n"
   ]
  },
  {
   "cell_type": "code",
   "execution_count": 6,
   "id": "3f3c2d48-455b-4219-99d6-189e3f059337",
   "metadata": {},
   "outputs": [
    {
     "data": {
      "text/plain": [
       "array([[15, 25, 35, 45, 55],\n",
       "       [15, 25, 35, 45, 55]])"
      ]
     },
     "execution_count": 6,
     "metadata": {},
     "output_type": "execute_result"
    }
   ],
   "source": [
    "arr1+arr2"
   ]
  },
  {
   "cell_type": "code",
   "execution_count": 7,
   "id": "5214bf57-7df4-4719-9093-9f3595de941c",
   "metadata": {},
   "outputs": [
    {
     "name": "stdout",
     "output_type": "stream",
     "text": [
      "[[-1.41421356 -1.41421356 -1.41421356]\n",
      " [-0.70710678 -0.70710678 -0.70710678]\n",
      " [ 0.          0.          0.        ]\n",
      " [ 0.70710678  0.70710678  0.70710678]\n",
      " [ 1.41421356  1.41421356  1.41421356]]\n"
     ]
    }
   ],
   "source": [
    "data = np.array([[10, 20, 30],\n",
    "[15, 25, 35],\n",
    "[20, 30, 40],\n",
    "[25, 35, 45],\n",
    "[30, 40, 50]])\n",
    "# Calculating mean and standard deviation for each feature (column)\n",
    "mean = data.mean(axis=0)\n",
    "std = data.std(axis=0)\n",
    "# Normalizing the data using broadcasting\n",
    "normalized_data = (data - mean) / std\n",
    "print(normalized_data)"
   ]
  }
 ],
 "metadata": {
  "kernelspec": {
   "display_name": "Python 3 (ipykernel)",
   "language": "python",
   "name": "python3"
  },
  "language_info": {
   "codemirror_mode": {
    "name": "ipython",
    "version": 3
   },
   "file_extension": ".py",
   "mimetype": "text/x-python",
   "name": "python",
   "nbconvert_exporter": "python",
   "pygments_lexer": "ipython3",
   "version": "3.12.7"
  }
 },
 "nbformat": 4,
 "nbformat_minor": 5
}
