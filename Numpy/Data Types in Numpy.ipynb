{
 "cells": [
  {
   "cell_type": "markdown",
   "id": "38feeb93-9cb8-403d-8efa-7fc299fcc9a4",
   "metadata": {},
   "source": [
    "# NumPy supports various data types (also called dtypes), and understanding them is crucial for optimizing memory usage and performance.\n",
    "---\n",
    "## Common Data Types in NumPy:\n",
    "- int32 , int64 : Integer types with different bit sizes.\n",
    "- float32 , float64 : Floating-point types with different precision.\n",
    "- bool : Boolean data type.\n",
    "- complex64, complex128 : Complex number types.\n",
    "- object : For storing objects (e.g., Python objects, strings).\n",
    "---"
   ]
  },
  {
   "cell_type": "code",
   "execution_count": 1,
   "id": "1b56fa5b-e90f-4524-a579-97b299b0884a",
   "metadata": {},
   "outputs": [
    {
     "name": "stdout",
     "output_type": "stream",
     "text": [
      "int64\n"
     ]
    }
   ],
   "source": [
    "import numpy as np\n",
    "arr = np.array([1, 2, 3, 4, 5])\n",
    "print(arr.dtype) # Output: int64 or int32 depending on the system)"
   ]
  },
  {
   "cell_type": "markdown",
   "id": "3bcddfa8-71cc-4ec0-81e3-497151957916",
   "metadata": {},
   "source": [
    "## Changind Data Types"
   ]
  },
  {
   "cell_type": "code",
   "execution_count": 2,
   "id": "37cb7a07-67bd-422b-ae0f-da283b9376a7",
   "metadata": {},
   "outputs": [
    {
     "data": {
      "text/plain": [
       "array([1., 2., 3., 4., 5.], dtype=float32)"
      ]
     },
     "execution_count": 2,
     "metadata": {},
     "output_type": "execute_result"
    }
   ],
   "source": [
    "arr.astype(np.float32)"
   ]
  },
  {
   "cell_type": "code",
   "execution_count": 3,
   "id": "386acc1e-da15-46cb-9478-6de05668721f",
   "metadata": {},
   "outputs": [
    {
     "data": {
      "text/plain": [
       "array([1, 2, 3, 4, 5], dtype=int32)"
      ]
     },
     "execution_count": 3,
     "metadata": {},
     "output_type": "execute_result"
    }
   ],
   "source": [
    "#also \n",
    "arr.astype(\"int32\")"
   ]
  },
  {
   "cell_type": "code",
   "execution_count": 4,
   "id": "9285ccc0-d836-4953-b78c-9c92123e93e8",
   "metadata": {},
   "outputs": [],
   "source": [
    "#while creating also we can define the datatype \n",
    "complex_arr = np.array([1+2j, 4+6j , 23+7j])"
   ]
  },
  {
   "cell_type": "code",
   "execution_count": 5,
   "id": "431805c5-550a-4c7a-aa55-30cf2fe28f3f",
   "metadata": {},
   "outputs": [
    {
     "data": {
      "text/plain": [
       "dtype('complex128')"
      ]
     },
     "execution_count": 5,
     "metadata": {},
     "output_type": "execute_result"
    }
   ],
   "source": [
    "complex_arr.dtype"
   ]
  },
  {
   "cell_type": "code",
   "execution_count": 10,
   "id": "a6a46238-9e94-481a-a142-7935d764b7df",
   "metadata": {},
   "outputs": [],
   "source": [
    "#while creating also we can define the datatype \n",
    "bool_arr = np.array([True,False,False,True], dtype= \"bool\")"
   ]
  },
  {
   "cell_type": "code",
   "execution_count": 12,
   "id": "a52bf6fe-96e3-4199-bffc-c65490dcda8c",
   "metadata": {},
   "outputs": [],
   "source": [
    "obj_arr = np.array([[\"Krish\", True , 64 , \"HELLO\" , {\"Name\": \"Colour \"}]])"
   ]
  },
  {
   "cell_type": "code",
   "execution_count": 15,
   "id": "1b47f605-bb35-455a-b018-9667b9d736b8",
   "metadata": {},
   "outputs": [
    {
     "data": {
      "text/plain": [
       "dtype('O')"
      ]
     },
     "execution_count": 15,
     "metadata": {},
     "output_type": "execute_result"
    }
   ],
   "source": [
    "obj_arr.dtype"
   ]
  },
  {
   "cell_type": "code",
   "execution_count": 16,
   "id": "54a93e12-9496-485c-907b-2fbe7c2b16bd",
   "metadata": {},
   "outputs": [
    {
     "data": {
      "text/plain": [
       "array([['Krish', True, 64, 'HELLO', {'Name': 'Colour '}]], dtype=object)"
      ]
     },
     "execution_count": 16,
     "metadata": {},
     "output_type": "execute_result"
    }
   ],
   "source": [
    "obj_arr.astype(\"object\")"
   ]
  },
  {
   "cell_type": "code",
   "execution_count": 17,
   "id": "d562cb50-b232-44f6-922f-7eb7de1ad42f",
   "metadata": {},
   "outputs": [
    {
     "data": {
      "text/plain": [
       "dtype('O')"
      ]
     },
     "execution_count": 17,
     "metadata": {},
     "output_type": "execute_result"
    }
   ],
   "source": [
    "obj_arr.dtype"
   ]
  },
  {
   "cell_type": "code",
   "execution_count": 18,
   "id": "84ab131e-44a0-4238-bbac-304fddb383ca",
   "metadata": {},
   "outputs": [
    {
     "data": {
      "text/plain": [
       "dtype('bool')"
      ]
     },
     "execution_count": 18,
     "metadata": {},
     "output_type": "execute_result"
    }
   ],
   "source": [
    "bool_arr.dtype"
   ]
  },
  {
   "cell_type": "code",
   "execution_count": 19,
   "id": "bb469337-1e3b-4a7f-b787-bcae9a9ffbdd",
   "metadata": {},
   "outputs": [
    {
     "data": {
      "text/plain": [
       "array([1, 0, 0, 1], dtype=int32)"
      ]
     },
     "execution_count": 19,
     "metadata": {},
     "output_type": "execute_result"
    }
   ],
   "source": [
    "# Can we type-cast bool to int ??\n",
    "# or object to int / float ?  ..... let's seee\n",
    "bool_arr.astype(\"int32\")"
   ]
  },
  {
   "cell_type": "code",
   "execution_count": 21,
   "id": "dc468add-86b5-4832-b02a-08815fa1a3e4",
   "metadata": {},
   "outputs": [],
   "source": [
    "bool_arr = np.array([True,False,False,True], dtype= \"bool\")"
   ]
  },
  {
   "cell_type": "code",
   "execution_count": 22,
   "id": "19c18c1c-70ac-4f32-b428-28ff90c3a7ff",
   "metadata": {},
   "outputs": [
    {
     "data": {
      "text/plain": [
       "array([1., 0., 0., 1.])"
      ]
     },
     "execution_count": 22,
     "metadata": {},
     "output_type": "execute_result"
    }
   ],
   "source": [
    "bool_arr.astype(\"float\")"
   ]
  },
  {
   "cell_type": "code",
   "execution_count": 24,
   "id": "fe242002-3d98-4d73-a361-03939f9e72d1",
   "metadata": {},
   "outputs": [
    {
     "data": {
      "text/plain": [
       "array([True, False, False, True], dtype=object)"
      ]
     },
     "execution_count": 24,
     "metadata": {},
     "output_type": "execute_result"
    }
   ],
   "source": [
    "bool_arr = np.array([True,False,False,True], dtype= \"bool\")\n",
    "bool_arr.astype(\"object\")"
   ]
  },
  {
   "cell_type": "code",
   "execution_count": 25,
   "id": "1400a647-9329-4ab5-9449-96fc3dd116d4",
   "metadata": {},
   "outputs": [
    {
     "data": {
      "text/plain": [
       "array([['Krish', True, 64, 'HELLO', {'Name': 'Colour '}]], dtype=object)"
      ]
     },
     "execution_count": 25,
     "metadata": {},
     "output_type": "execute_result"
    }
   ],
   "source": [
    "obj_arr"
   ]
  },
  {
   "cell_type": "code",
   "execution_count": 26,
   "id": "a8c4b844-c5a3-410a-9896-f604efd183f0",
   "metadata": {},
   "outputs": [
    {
     "data": {
      "text/plain": [
       "array([[ True,  True,  True,  True,  True]])"
      ]
     },
     "execution_count": 26,
     "metadata": {},
     "output_type": "execute_result"
    }
   ],
   "source": [
    "obj_arr.astype(\"bool\")"
   ]
  },
  {
   "cell_type": "code",
   "execution_count": 27,
   "id": "e59dbd18-a4c5-4abb-b4d7-149b748d763b",
   "metadata": {},
   "outputs": [
    {
     "data": {
      "text/plain": [
       "array([['Krish', True, 64, 'HELLO', {'Name': 'Colour '}]], dtype=object)"
      ]
     },
     "execution_count": 27,
     "metadata": {},
     "output_type": "execute_result"
    }
   ],
   "source": [
    "obj_arr"
   ]
  },
  {
   "cell_type": "code",
   "execution_count": 28,
   "id": "54c5452d-1ead-4c2b-a4b8-39bd4b19f7ba",
   "metadata": {},
   "outputs": [
    {
     "ename": "ValueError",
     "evalue": "invalid literal for int() with base 10: 'Krish'",
     "output_type": "error",
     "traceback": [
      "\u001b[0;31m---------------------------------------------------------------------------\u001b[0m",
      "\u001b[0;31mValueError\u001b[0m                                Traceback (most recent call last)",
      "Cell \u001b[0;32mIn[28], line 1\u001b[0m\n\u001b[0;32m----> 1\u001b[0m obj_arr\u001b[38;5;241m.\u001b[39mastype(\u001b[38;5;124m\"\u001b[39m\u001b[38;5;124mint\u001b[39m\u001b[38;5;124m\"\u001b[39m)\n",
      "\u001b[0;31mValueError\u001b[0m: invalid literal for int() with base 10: 'Krish'"
     ]
    }
   ],
   "source": [
    "obj_arr.astype(\"int\")"
   ]
  },
  {
   "cell_type": "code",
   "execution_count": 30,
   "id": "8836776a-ae49-42b8-8a59-2d8600fa9f8e",
   "metadata": {},
   "outputs": [
    {
     "ename": "ValueError",
     "evalue": "could not convert string to float: 'Krish'",
     "output_type": "error",
     "traceback": [
      "\u001b[0;31m---------------------------------------------------------------------------\u001b[0m",
      "\u001b[0;31mValueError\u001b[0m                                Traceback (most recent call last)",
      "Cell \u001b[0;32mIn[30], line 1\u001b[0m\n\u001b[0;32m----> 1\u001b[0m obj_arr\u001b[38;5;241m.\u001b[39mastype(\u001b[38;5;124m\"\u001b[39m\u001b[38;5;124mfloat\u001b[39m\u001b[38;5;124m\"\u001b[39m)\n",
      "\u001b[0;31mValueError\u001b[0m: could not convert string to float: 'Krish'"
     ]
    }
   ],
   "source": [
    "obj_arr.astype(\"float\")"
   ]
  },
  {
   "cell_type": "markdown",
   "id": "aebbcfa1-da6b-4f7b-81f7-3d4323d7a215",
   "metadata": {},
   "source": [
    "## Conclusion: \n",
    "- we can convert bool to any data type\n",
    "- we can convert object to only bool data type not to int of float !!"
   ]
  }
 ],
 "metadata": {
  "kernelspec": {
   "display_name": "Python 3 (ipykernel)",
   "language": "python",
   "name": "python3"
  },
  "language_info": {
   "codemirror_mode": {
    "name": "ipython",
    "version": 3
   },
   "file_extension": ".py",
   "mimetype": "text/x-python",
   "name": "python",
   "nbconvert_exporter": "python",
   "pygments_lexer": "ipython3",
   "version": "3.12.7"
  }
 },
 "nbformat": 4,
 "nbformat_minor": 5
}
