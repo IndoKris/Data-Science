{
 "cells": [
  {
   "cell_type": "markdown",
   "id": "0d77f023-546b-4a3e-b00a-fb3821dd1144",
   "metadata": {},
   "source": [
    "# Understanding Axes in NumPy\n",
    "## Each dimension in a NumPy array is called an axis. Axes are numbered starting from 0.\n",
    "- 1D array → 1 axis (axis 0)\n",
    "- 2D array → 2 axes (axis 0 = rows, axis 1 = columns)\n",
    "- 3D array → 3 axes (axis 0 = depth, axis 1 = rows, axis 2 = columns)"
   ]
  },
  {
   "cell_type": "code",
   "execution_count": 1,
   "id": "91fe49e5-b7ea-4646-8e2d-a88822087ad0",
   "metadata": {},
   "outputs": [],
   "source": [
    "import numpy as np "
   ]
  },
  {
   "cell_type": "code",
   "execution_count": 2,
   "id": "a107ff9c-cba5-436c-8f2c-fe6f257540c2",
   "metadata": {},
   "outputs": [],
   "source": [
    "array1D = np.array([20,384,34,62,84])\n",
    "array2D = np.array([\n",
    "    [63,29,543,24],\n",
    "    [52,67,34,24]\n",
    "])\n",
    "\n",
    "array3D = np.array([\n",
    "    [[63,29,543,24],\n",
    "    [52,67,34,24]],\n",
    "    \n",
    "    [[63,29,543,24],\n",
    "    [52,67,34,24]]\n",
    "]) # an array with 2D elements as depth "
   ]
  },
  {
   "cell_type": "code",
   "execution_count": 4,
   "id": "52c4848a-fec0-4cb2-b5e5-bd65c5a37333",
   "metadata": {},
   "outputs": [
    {
     "data": {
      "text/plain": [
       "1"
      ]
     },
     "execution_count": 4,
     "metadata": {},
     "output_type": "execute_result"
    }
   ],
   "source": [
    "array1D.ndim"
   ]
  },
  {
   "cell_type": "code",
   "execution_count": 5,
   "id": "828385c4-8119-47ab-a824-57746238be1a",
   "metadata": {},
   "outputs": [
    {
     "data": {
      "text/plain": [
       "2"
      ]
     },
     "execution_count": 5,
     "metadata": {},
     "output_type": "execute_result"
    }
   ],
   "source": [
    "array2D.ndim"
   ]
  },
  {
   "cell_type": "code",
   "execution_count": 6,
   "id": "9859c517-1ac5-48b3-9bca-1fe114319fc9",
   "metadata": {},
   "outputs": [
    {
     "data": {
      "text/plain": [
       "3"
      ]
     },
     "execution_count": 6,
     "metadata": {},
     "output_type": "execute_result"
    }
   ],
   "source": [
    "array3D.ndim"
   ]
  },
  {
   "cell_type": "code",
   "execution_count": 7,
   "id": "f273f8e6-e29e-44ed-8fd4-d2773134aa05",
   "metadata": {},
   "outputs": [],
   "source": [
    "psudo3D = np.array([[4,72,92],\n",
    "                    [35,84,92],\n",
    "                    [62,63,53]\n",
    "                   ])"
   ]
  },
  {
   "cell_type": "code",
   "execution_count": 8,
   "id": "0093c13b-99d1-490c-bd2d-290fdac0b53c",
   "metadata": {},
   "outputs": [
    {
     "data": {
      "text/plain": [
       "2"
      ]
     },
     "execution_count": 8,
     "metadata": {},
     "output_type": "execute_result"
    }
   ],
   "source": [
    "psudo3D.ndim"
   ]
  },
  {
   "cell_type": "markdown",
   "id": "e2ad0dcb-58ff-46cb-9f3e-e9580d1173af",
   "metadata": {},
   "source": [
    "# Indexing in Multidimensional Arrays"
   ]
  },
  {
   "cell_type": "code",
   "execution_count": 10,
   "id": "8273f6e8-cd6c-4fbc-bed0-fb01387431ab",
   "metadata": {},
   "outputs": [
    {
     "data": {
      "text/plain": [
       "array([ 20, 384,  34,  62,  84])"
      ]
     },
     "execution_count": 10,
     "metadata": {},
     "output_type": "execute_result"
    }
   ],
   "source": [
    "array1D"
   ]
  },
  {
   "cell_type": "code",
   "execution_count": 11,
   "id": "fabccd06-471b-4abd-9387-19ce3b458175",
   "metadata": {},
   "outputs": [
    {
     "data": {
      "text/plain": [
       "384"
      ]
     },
     "execution_count": 11,
     "metadata": {},
     "output_type": "execute_result"
    }
   ],
   "source": [
    "array1D[1]"
   ]
  },
  {
   "cell_type": "code",
   "execution_count": 14,
   "id": "d6ed1555-39f1-42c6-9e30-af0e479f42e4",
   "metadata": {},
   "outputs": [
    {
     "data": {
      "text/plain": [
       "84"
      ]
     },
     "execution_count": 14,
     "metadata": {},
     "output_type": "execute_result"
    }
   ],
   "source": [
    "array1D[4]"
   ]
  },
  {
   "cell_type": "code",
   "execution_count": 15,
   "id": "73eb026c-b30a-449a-b1c5-465630c98801",
   "metadata": {},
   "outputs": [
    {
     "data": {
      "text/plain": [
       "array([[ 63,  29, 543,  24],\n",
       "       [ 52,  67,  34,  24]])"
      ]
     },
     "execution_count": 15,
     "metadata": {},
     "output_type": "execute_result"
    }
   ],
   "source": [
    "array2D"
   ]
  },
  {
   "cell_type": "code",
   "execution_count": 16,
   "id": "f06070b9-9629-456e-b01c-f4dcc01ea0b0",
   "metadata": {},
   "outputs": [
    {
     "data": {
      "text/plain": [
       "24"
      ]
     },
     "execution_count": 16,
     "metadata": {},
     "output_type": "execute_result"
    }
   ],
   "source": [
    "array2D[0][3]"
   ]
  },
  {
   "cell_type": "code",
   "execution_count": 17,
   "id": "7418adbd-a48c-4d4f-9f37-4c930b3b0b3b",
   "metadata": {},
   "outputs": [
    {
     "data": {
      "text/plain": [
       "34"
      ]
     },
     "execution_count": 17,
     "metadata": {},
     "output_type": "execute_result"
    }
   ],
   "source": [
    "array2D[1][2] # should print 34"
   ]
  },
  {
   "cell_type": "code",
   "execution_count": 18,
   "id": "be3bdc43-28a4-437c-8694-4b07a2ceeefd",
   "metadata": {},
   "outputs": [
    {
     "data": {
      "text/plain": [
       "24"
      ]
     },
     "execution_count": 18,
     "metadata": {},
     "output_type": "execute_result"
    }
   ],
   "source": [
    "#using row and column indices.\n",
    "\n",
    "array2D[1,3] # -> 24"
   ]
  },
  {
   "cell_type": "code",
   "execution_count": 19,
   "id": "76aae49b-196e-4f1a-939c-561fdef3eeb9",
   "metadata": {},
   "outputs": [
    {
     "data": {
      "text/plain": [
       "array([[ 63,  29, 543,  24],\n",
       "       [ 52,  67,  34,  24]])"
      ]
     },
     "execution_count": 19,
     "metadata": {},
     "output_type": "execute_result"
    }
   ],
   "source": [
    "#slicing in 2D\n",
    "\n",
    "array2D[:] # -> should return the whole array"
   ]
  },
  {
   "cell_type": "code",
   "execution_count": 22,
   "id": "42b5724c-01dd-4abd-be07-94f63ba1ddc7",
   "metadata": {},
   "outputs": [
    {
     "data": {
      "text/plain": [
       "array([543,  34])"
      ]
     },
     "execution_count": 22,
     "metadata": {},
     "output_type": "execute_result"
    }
   ],
   "source": [
    "array2D[:,2] # -> 543 , 34"
   ]
  },
  {
   "cell_type": "code",
   "execution_count": 24,
   "id": "49c38f81-1e67-4447-b40c-ece75fb86488",
   "metadata": {},
   "outputs": [
    {
     "data": {
      "text/plain": [
       "67"
      ]
     },
     "execution_count": 24,
     "metadata": {},
     "output_type": "execute_result"
    }
   ],
   "source": [
    "# access element - 67 \n",
    "array2D[1,1]  #1 indexing\n"
   ]
  },
  {
   "cell_type": "code",
   "execution_count": 25,
   "id": "e4ea2515-340e-46d7-97f5-c3c543c27b92",
   "metadata": {},
   "outputs": [
    {
     "data": {
      "text/plain": [
       "67"
      ]
     },
     "execution_count": 25,
     "metadata": {},
     "output_type": "execute_result"
    }
   ],
   "source": [
    "array2D[1][1] #2 indexing \n"
   ]
  },
  {
   "cell_type": "code",
   "execution_count": 29,
   "id": "84788b6c-5242-455a-8c0c-39f0406e5dd7",
   "metadata": {},
   "outputs": [
    {
     "data": {
      "text/plain": [
       "array([[67]])"
      ]
     },
     "execution_count": 29,
     "metadata": {},
     "output_type": "execute_result"
    }
   ],
   "source": [
    "array2D[1:,1:2] #slicing"
   ]
  },
  {
   "cell_type": "markdown",
   "id": "510ca8c4-3c16-4963-8056-2461e7fb4b02",
   "metadata": {},
   "source": [
    "# Indexing in 3D Arrays"
   ]
  },
  {
   "cell_type": "code",
   "execution_count": 30,
   "id": "8616e65e-f6ce-4c18-817d-5acdba995bac",
   "metadata": {},
   "outputs": [
    {
     "data": {
      "text/plain": [
       "array([[[ 63,  29, 543,  24],\n",
       "        [ 52,  67,  34,  24]],\n",
       "\n",
       "       [[ 63,  29, 543,  24],\n",
       "        [ 52,  67,  34,  24]]])"
      ]
     },
     "execution_count": 30,
     "metadata": {},
     "output_type": "execute_result"
    }
   ],
   "source": [
    "array3D"
   ]
  },
  {
   "cell_type": "code",
   "execution_count": 31,
   "id": "4dfe8050-ba4c-46e8-a190-f40d16d86dff",
   "metadata": {},
   "outputs": [],
   "source": [
    "arr3D = np.array([[[1, 2, 3], [4, 5, 6]],\n",
    "[[7, 8, 9], [10, 11, 12]]])"
   ]
  },
  {
   "cell_type": "code",
   "execution_count": 32,
   "id": "f47e4a60-ea95-4904-ab15-ecfe870a2d6f",
   "metadata": {},
   "outputs": [
    {
     "data": {
      "text/plain": [
       "array([[[ 1,  2,  3],\n",
       "        [ 4,  5,  6]],\n",
       "\n",
       "       [[ 7,  8,  9],\n",
       "        [10, 11, 12]]])"
      ]
     },
     "execution_count": 32,
     "metadata": {},
     "output_type": "execute_result"
    }
   ],
   "source": [
    "arr3D"
   ]
  },
  {
   "cell_type": "code",
   "execution_count": 33,
   "id": "281af9d1-907a-49ae-a192-6a6a274474c1",
   "metadata": {},
   "outputs": [
    {
     "name": "stdout",
     "output_type": "stream",
     "text": [
      "(2, 2, 3)\n"
     ]
    }
   ],
   "source": [
    "# Output of arr3D.shape is → (depth, rows, columns)\n",
    "print(arr3D.shape) "
   ]
  },
  {
   "cell_type": "code",
   "execution_count": 34,
   "id": "2f4f95da-dd70-46f1-a898-f9abae00ec55",
   "metadata": {},
   "outputs": [
    {
     "data": {
      "text/plain": [
       "9"
      ]
     },
     "execution_count": 34,
     "metadata": {},
     "output_type": "execute_result"
    }
   ],
   "source": [
    "#Accessing elements in 3D:\n",
    "# to access 9 \n",
    "arr3D[1,0,2]"
   ]
  },
  {
   "cell_type": "code",
   "execution_count": 35,
   "id": "52f50104-b159-4432-95f7-de0f8c2dc651",
   "metadata": {},
   "outputs": [
    {
     "data": {
      "text/plain": [
       "array([[1, 2, 3],\n",
       "       [7, 8, 9]])"
      ]
     },
     "execution_count": 35,
     "metadata": {},
     "output_type": "execute_result"
    }
   ],
   "source": [
    "# get 1st row from both sheets\n",
    "arr3D[0:2,0,:]"
   ]
  },
  {
   "cell_type": "markdown",
   "id": "24848e1b-1dd6-4a29-812e-40a0fb2b15c7",
   "metadata": {},
   "source": [
    "# Selecting Data Along Axes"
   ]
  },
  {
   "cell_type": "code",
   "execution_count": 36,
   "id": "0c580b92-c080-4bea-8b5d-aa5e01ad9c01",
   "metadata": {},
   "outputs": [
    {
     "data": {
      "text/plain": [
       "array([[[ 63,  29, 543,  24],\n",
       "        [ 52,  67,  34,  24]],\n",
       "\n",
       "       [[ 63,  29, 543,  24],\n",
       "        [ 52,  67,  34,  24]]])"
      ]
     },
     "execution_count": 36,
     "metadata": {},
     "output_type": "execute_result"
    }
   ],
   "source": [
    "# Get all rows of the first column\n",
    "array3D"
   ]
  },
  {
   "cell_type": "code",
   "execution_count": 37,
   "id": "9f8cfb6d-5411-4f47-83bf-80609e4fc1e0",
   "metadata": {},
   "outputs": [
    {
     "data": {
      "text/plain": [
       "array([[63, 52],\n",
       "       [63, 52]])"
      ]
     },
     "execution_count": 37,
     "metadata": {},
     "output_type": "execute_result"
    }
   ],
   "source": [
    "array3D[:,:,0]"
   ]
  },
  {
   "cell_type": "code",
   "execution_count": 39,
   "id": "32e39664-e106-490c-855c-81ace2fb2ecf",
   "metadata": {},
   "outputs": [
    {
     "name": "stdout",
     "output_type": "stream",
     "text": [
      "[[ 63  29 543  24]\n",
      " [ 63  29 543  24]]\n"
     ]
    }
   ],
   "source": [
    "# Get the first row from each \"sheet\" in a 3D array\n",
    "new_arr3D = array3D[:,0,:]\n",
    "print(new_arr3D)"
   ]
  },
  {
   "cell_type": "markdown",
   "id": "c4fd8e79-25f9-4df7-95a1-1f37111f4d43",
   "metadata": {},
   "source": [
    "# Changing Data Along an Axis"
   ]
  },
  {
   "cell_type": "code",
   "execution_count": 43,
   "id": "f665195c-003c-4b80-a498-f2e89a4be7b6",
   "metadata": {},
   "outputs": [
    {
     "name": "stdout",
     "output_type": "stream",
     "text": [
      "[[[  0  29 543  24]\n",
      "  [  0  67  34  24]]\n",
      "\n",
      " [[  0  29 543  24]\n",
      "  [  0  67  34  24]]]\n"
     ]
    }
   ],
   "source": [
    "# Replace all elements in column 1 with 0\n",
    "array3D[:,:,0] = 0 \n",
    "print(array3D)"
   ]
  },
  {
   "cell_type": "code",
   "execution_count": 44,
   "id": "76f8a8c8-8927-4c0e-849a-13f109a7f6cf",
   "metadata": {},
   "outputs": [],
   "source": [
    "# add 69 in all elements in column 2 \n",
    "array3D[:,:,1] = 69"
   ]
  },
  {
   "cell_type": "code",
   "execution_count": 45,
   "id": "0d1378fd-4949-47b9-9755-aac5d30396a3",
   "metadata": {},
   "outputs": [
    {
     "data": {
      "text/plain": [
       "array([[[  0,  69, 543,  24],\n",
       "        [  0,  69,  34,  24]],\n",
       "\n",
       "       [[  0,  69, 543,  24],\n",
       "        [  0,  69,  34,  24]]])"
      ]
     },
     "execution_count": 45,
     "metadata": {},
     "output_type": "execute_result"
    }
   ],
   "source": [
    "array3D"
   ]
  },
  {
   "cell_type": "code",
   "execution_count": null,
   "id": "940b5553-1902-442a-b0bb-74ad57b99df6",
   "metadata": {},
   "outputs": [],
   "source": []
  }
 ],
 "metadata": {
  "kernelspec": {
   "display_name": "Python 3 (ipykernel)",
   "language": "python",
   "name": "python3"
  },
  "language_info": {
   "codemirror_mode": {
    "name": "ipython",
    "version": 3
   },
   "file_extension": ".py",
   "mimetype": "text/x-python",
   "name": "python",
   "nbconvert_exporter": "python",
   "pygments_lexer": "ipython3",
   "version": "3.12.7"
  }
 },
 "nbformat": 4,
 "nbformat_minor": 5
}
