{
 "cells": [
  {
   "cell_type": "markdown",
   "id": "4a603313-75cf-4263-9c18-95687c79d430",
   "metadata": {},
   "source": [
    "# Indexing is same as python lists"
   ]
  },
  {
   "cell_type": "code",
   "execution_count": 1,
   "id": "eb4d6ccd-0d44-4a80-9340-90e8ff75b70e",
   "metadata": {},
   "outputs": [],
   "source": [
    "\n",
    "import numpy as np\n",
    "arr = np.array([[10,35,24],[34,75,21]])"
   ]
  },
  {
   "cell_type": "code",
   "execution_count": 2,
   "id": "563d741d-ca3e-4550-96d5-6a01a2a03fe4",
   "metadata": {},
   "outputs": [],
   "source": [
    "flat = arr.flatten()"
   ]
  },
  {
   "cell_type": "code",
   "execution_count": 3,
   "id": "075f04e6-f34b-42cc-9d83-3b9376539b95",
   "metadata": {},
   "outputs": [
    {
     "name": "stdout",
     "output_type": "stream",
     "text": [
      "[10 35 24 34 75 21]\n"
     ]
    }
   ],
   "source": [
    "print(flat)"
   ]
  },
  {
   "cell_type": "code",
   "execution_count": 4,
   "id": "92a014fc-1bbd-4444-b258-767ad2d3cfd4",
   "metadata": {},
   "outputs": [
    {
     "name": "stdout",
     "output_type": "stream",
     "text": [
      "[10 35 24]\n"
     ]
    }
   ],
   "source": [
    "print(arr[0])"
   ]
  },
  {
   "cell_type": "code",
   "execution_count": 5,
   "id": "8c78a23f-37e2-484a-8a9f-d2f1943f4273",
   "metadata": {},
   "outputs": [
    {
     "data": {
      "text/plain": [
       "array([34, 75, 21])"
      ]
     },
     "execution_count": 5,
     "metadata": {},
     "output_type": "execute_result"
    }
   ],
   "source": [
    "arr[1] #provides the array element "
   ]
  },
  {
   "cell_type": "code",
   "execution_count": 6,
   "id": "5276068f-6be6-4aaa-b46c-63dc34303bab",
   "metadata": {},
   "outputs": [
    {
     "data": {
      "text/plain": [
       "array([24, 34, 75, 21])"
      ]
     },
     "execution_count": 6,
     "metadata": {},
     "output_type": "execute_result"
    }
   ],
   "source": [
    "#using flattened array\n",
    "flat[2:7]"
   ]
  },
  {
   "cell_type": "code",
   "execution_count": 7,
   "id": "b1aaee86-5c37-4b6d-a295-591567f32e0c",
   "metadata": {},
   "outputs": [
    {
     "data": {
      "text/plain": [
       "array([10, 35, 24, 34, 75, 21])"
      ]
     },
     "execution_count": 7,
     "metadata": {},
     "output_type": "execute_result"
    }
   ],
   "source": [
    "flat[:] # complete"
   ]
  },
  {
   "cell_type": "code",
   "execution_count": 8,
   "id": "137e6a19-2861-4aae-b2ff-a5a20c43cbd5",
   "metadata": {},
   "outputs": [
    {
     "data": {
      "text/plain": [
       "array([21, 75, 34, 24, 35, 10])"
      ]
     },
     "execution_count": 8,
     "metadata": {},
     "output_type": "execute_result"
    }
   ],
   "source": [
    "#reversed arrar\n",
    "flat[::-1]"
   ]
  },
  {
   "cell_type": "markdown",
   "id": "069b5869-703c-4c1b-ab50-50c37bc1a784",
   "metadata": {},
   "source": [
    "## Slicing returns a view, not a copy! Changes affect the original array"
   ]
  },
  {
   "cell_type": "code",
   "execution_count": 12,
   "id": "fe6eaa9f-48d6-4b46-8c19-94c4ab120ef1",
   "metadata": {},
   "outputs": [],
   "source": [
    "arr1 = np.array([[93,21,83,123],[35,62,912,23]])"
   ]
  },
  {
   "cell_type": "code",
   "execution_count": 14,
   "id": "23928b92-e53a-48c5-87df-1279e99546f9",
   "metadata": {},
   "outputs": [
    {
     "name": "stdout",
     "output_type": "stream",
     "text": [
      "[ 93  21  83 123  35  62 912  23]\n"
     ]
    }
   ],
   "source": [
    "print(arr1.flatten())"
   ]
  },
  {
   "cell_type": "code",
   "execution_count": 16,
   "id": "5d13ae71-ce6d-4df9-b43c-778f17d684d2",
   "metadata": {},
   "outputs": [
    {
     "name": "stdout",
     "output_type": "stream",
     "text": [
      "[ 23 912  62  35 123  83  21  93]\n"
     ]
    }
   ],
   "source": [
    "k = arr1[::-1] #containing reversed array\n",
    "print(k)"
   ]
  },
  {
   "cell_type": "code",
   "execution_count": 20,
   "id": "09b5f003-0211-4a71-8f3f-392dbc4e1a82",
   "metadata": {},
   "outputs": [
    {
     "name": "stdout",
     "output_type": "stream",
     "text": [
      "[ 23 912  69  35 123  83  21  93]\n"
     ]
    }
   ],
   "source": [
    "k[2] = 69\n",
    "print(k)"
   ]
  },
  {
   "cell_type": "code",
   "execution_count": 21,
   "id": "b8b95f37-6c19-4f1e-9b3e-dc7027c30ff8",
   "metadata": {},
   "outputs": [
    {
     "name": "stdout",
     "output_type": "stream",
     "text": [
      "[ 83 123  35  69]\n",
      "[    83    123 111111     69]\n"
     ]
    }
   ],
   "source": [
    "#taking a slice\n",
    "sliced = arr1[2:6]\n",
    "print(sliced)\n",
    "sliced[2] = 111111\n",
    "print(sliced)"
   ]
  },
  {
   "cell_type": "code",
   "execution_count": 22,
   "id": "7669a22e-d9ab-4d7c-a6e2-de55cacdcfeb",
   "metadata": {},
   "outputs": [
    {
     "data": {
      "text/plain": [
       "array([    93,     21,     83,    123, 111111,     69,    912,     23])"
      ]
     },
     "execution_count": 22,
     "metadata": {},
     "output_type": "execute_result"
    }
   ],
   "source": [
    "#checking the oriinal array , as if it changed \n",
    "arr1"
   ]
  },
  {
   "cell_type": "markdown",
   "id": "8a37bcca-e499-4530-bdb6-389b95022402",
   "metadata": {},
   "source": [
    "## To create a copy and it should not change the original array we use \".copy()\""
   ]
  },
  {
   "cell_type": "code",
   "execution_count": 23,
   "id": "043df8d5-ab05-4d1e-ba82-3f9575600312",
   "metadata": {},
   "outputs": [
    {
     "data": {
      "text/plain": [
       "array([    93,     21,     83,    123, 111111,     69,    912,     23])"
      ]
     },
     "execution_count": 23,
     "metadata": {},
     "output_type": "execute_result"
    }
   ],
   "source": [
    "arr1 #original array rn"
   ]
  },
  {
   "cell_type": "code",
   "execution_count": 25,
   "id": "101574fa-4344-44eb-a10d-ee561665aa75",
   "metadata": {},
   "outputs": [
    {
     "name": "stdout",
     "output_type": "stream",
     "text": [
      "[    83    123 111111     69]\n"
     ]
    }
   ],
   "source": [
    "#making a copy of array \n",
    "newarr1 = arr1[2:6].copy()\n",
    "print(newarr1)"
   ]
  },
  {
   "cell_type": "code",
   "execution_count": 26,
   "id": "b1f3d3a7-16ac-4aa3-a710-a03d61ddf52a",
   "metadata": {},
   "outputs": [
    {
     "name": "stdout",
     "output_type": "stream",
     "text": [
      "[  83  123 2222   69]\n",
      "\n",
      "[    93     21     83    123 111111     69    912     23]\n"
     ]
    }
   ],
   "source": [
    "# changing the values and check for if orginial has changed or nto\n",
    "newarr1[2] = 2222\n",
    "print(newarr1)\n",
    "print()\n",
    "print(arr1) "
   ]
  },
  {
   "cell_type": "markdown",
   "id": "0c972746-23c9-4ddf-b95e-8dc20f742918",
   "metadata": {},
   "source": [
    "## Fancy Indexing & Boolean Masking"
   ]
  },
  {
   "cell_type": "code",
   "execution_count": 32,
   "id": "9b82cc4f-08e3-4584-886c-8db94af8da6a",
   "metadata": {},
   "outputs": [
    {
     "name": "stdout",
     "output_type": "stream",
     "text": [
      "[  69   96 9269]\n"
     ]
    }
   ],
   "source": [
    "# Fancy Indexing (Select Multiple Elements)\n",
    "\n",
    "arrayy = np.array([13,69,73,96,932,9269])\n",
    "index = [1,3,5] #indices to select \n",
    "print(arrayy[index]) # syntax : arr[idx]"
   ]
  },
  {
   "cell_type": "code",
   "execution_count": 39,
   "id": "8c66ec40-a61f-4aa7-8b23-35c0a58ae3aa",
   "metadata": {},
   "outputs": [
    {
     "name": "stdout",
     "output_type": "stream",
     "text": [
      "[10 20]\n"
     ]
    }
   ],
   "source": [
    "# Boolean Masking (Filter Data)\n",
    "\n",
    "arr = np.array([10, 20, 30, 40, 50])\n",
    "mask = (arr < 30) # provide a condition without any square brackets\n",
    "print(arr[mask])"
   ]
  },
  {
   "cell_type": "code",
   "execution_count": null,
   "id": "7d7b939a-6bbe-4f72-98cc-b96ebc2e0ad2",
   "metadata": {},
   "outputs": [],
   "source": []
  }
 ],
 "metadata": {
  "kernelspec": {
   "display_name": "Python 3 (ipykernel)",
   "language": "python",
   "name": "python3"
  },
  "language_info": {
   "codemirror_mode": {
    "name": "ipython",
    "version": 3
   },
   "file_extension": ".py",
   "mimetype": "text/x-python",
   "name": "python",
   "nbconvert_exporter": "python",
   "pygments_lexer": "ipython3",
   "version": "3.13.2"
  }
 },
 "nbformat": 4,
 "nbformat_minor": 5
}
