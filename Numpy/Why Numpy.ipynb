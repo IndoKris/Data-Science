{
 "cells": [
  {
   "cell_type": "markdown",
   "id": "1b3348b1-a8a6-403e-9e65-6cc2b0e261f2",
   "metadata": {},
   "source": [
    "# NumPy's Superpowers:\n",
    "- Faster than Python lists (C-optimized backend)\n",
    "- Uses less memory (efficient storage)\n",
    "- Supports vectorized operations (no explicit loops needed)\n",
    "- Has built-in mathematical functions"
   ]
  },
  {
   "cell_type": "code",
   "execution_count": 1,
   "id": "e959a329-2041-4def-9f78-d3e601b7592c",
   "metadata": {},
   "outputs": [
    {
     "name": "stdout",
     "output_type": "stream",
     "text": [
      "Python list addition time: 0.05535483360290527\n",
      "NumPy array addition time: 0.013222932815551758\n"
     ]
    }
   ],
   "source": [
    "# Time consumed by list VS numpy\n",
    "\n",
    "import numpy as np\n",
    "import time\n",
    "\n",
    "# Python list\n",
    "size = 1_000_000\n",
    "list1 = list(range(size))\n",
    "list2 = list(range(size))\n",
    "\n",
    "start = time.time()\n",
    "result = [x + y for x, y in zip(list1, list2)]\n",
    "end = time.time()\n",
    "print(\"Python list addition time:\", end - start)\n",
    "\n",
    "# NumPy array\n",
    "arr1 = np.array(list1)\n",
    "arr2 = np.array(list2)\n",
    "\n",
    "start = time.time()\n",
    "result = arr1 + arr2  # Vectorized operation\n",
    "end = time.time()\n",
    "print(\"NumPy array addition time:\", end - start)"
   ]
  },
  {
   "cell_type": "code",
   "execution_count": 2,
   "id": "2e1d15c6-a7f0-4b5e-a15d-1ee3de14664e",
   "metadata": {},
   "outputs": [
    {
     "name": "stdout",
     "output_type": "stream",
     "text": [
      "Python list size: 8056000 bytes\n",
      "NumPy array size: 8000 bytes\n"
     ]
    }
   ],
   "source": [
    "# More efficient than lists \n",
    "\n",
    "import sys\n",
    "\n",
    "list_data = list(range(1000))\n",
    "numpy_data = np.array(list_data)\n",
    "\n",
    "print(\"Python list size:\", sys.getsizeof(list_data) * len(list_data), \"bytes\")\n",
    "print(\"NumPy array size:\", numpy_data.nbytes, \"bytes\")"
   ]
  },
  {
   "cell_type": "markdown",
   "id": "e8918b22-16bb-4a4e-bc75-07d9f4e5dfc0",
   "metadata": {},
   "source": [
    "## Vectorization – No More Loops!\n",
    "- NumPy avoids loops by applying operations to entire arrays at once using SIMD (Single Instruction, Multiple Data) and other low-level optimizations. SIMD is a CPU-level optimization provided by modern processors.\n",
    "- NumPy is cleaner and faster!"
   ]
  },
  {
   "cell_type": "code",
   "execution_count": 3,
   "id": "a347ecfd-e12b-4bcc-af7d-8f004fa17660",
   "metadata": {},
   "outputs": [],
   "source": [
    "# Squaring elements \n",
    "# Python list (loop-based)\n",
    "list_squares = [x ** 2 for x in list1]\n",
    "\n",
    "# NumPy (vectorized)\n",
    "numpy_squares = arr1 ** 2"
   ]
  },
  {
   "cell_type": "markdown",
   "id": "e3fb1461-feb4-46d7-9e99-657c858aa04a",
   "metadata": {},
   "source": [
    "# Practice\n",
    "- Create a NumPy array with values from 10 to 100 and print its shape.\n",
    "- Compare the time taken to multiply two Python lists vs. two NumPy arrays.\n",
    "- Find the memory size of a NumPy array with 1 million elements."
   ]
  },
  {
   "cell_type": "code",
   "execution_count": 4,
   "id": "53143410-76b8-4133-b3a9-653d48591b8a",
   "metadata": {},
   "outputs": [
    {
     "name": "stdout",
     "output_type": "stream",
     "text": [
      "(3, 3)\n"
     ]
    }
   ],
   "source": [
    "import numpy as np \n",
    "arr = np.array([[10,20,30],[40,50,60],[80,90,100]])\n",
    "print(arr.shape)"
   ]
  },
  {
   "cell_type": "code",
   "execution_count": 5,
   "id": "365c5485-1ad7-4d8d-9271-f93021c8f5f6",
   "metadata": {},
   "outputs": [
    {
     "name": "stdout",
     "output_type": "stream",
     "text": [
      "Python list addition time: 0.051100969314575195\n",
      "NumPy array addition time: 0.014018058776855469\n"
     ]
    }
   ],
   "source": [
    "import time \n",
    "import numpy as np\n",
    "size = 1_000_000\n",
    "l1 = list(range(size))\n",
    "l2 = list(range(size))\n",
    "start = time.time()\n",
    "result = [x * y for x, y in zip(list1, list2)]\n",
    "end = time.time()\n",
    "print(\"Python list addition time:\", end - start)\n",
    "\n",
    "# NumPy array\n",
    "arr1 = np.array(l1)\n",
    "arr2 = np.array(l2)\n",
    "\n",
    "start = time.time()\n",
    "result = arr1 * arr2  # Vectorized operation\n",
    "end = time.time()\n",
    "print(\"NumPy array addition time:\", end - start)\n"
   ]
  },
  {
   "cell_type": "code",
   "execution_count": 6,
   "id": "370b3ae4-dc5a-4097-8db1-21e9dbe8df23",
   "metadata": {},
   "outputs": [
    {
     "name": "stdout",
     "output_type": "stream",
     "text": [
      "NumPy array size: 8000000 bytes\n"
     ]
    }
   ],
   "source": [
    "list_data = list(range(1000000))\n",
    "numpy_data = np.array(list_data)\n",
    "print(\"NumPy array size:\", numpy_data.nbytes, \"bytes\")"
   ]
  },
  {
   "cell_type": "code",
   "execution_count": null,
   "id": "a34c60b8-4350-4a28-a6b7-ec7ad5755d34",
   "metadata": {},
   "outputs": [],
   "source": []
  }
 ],
 "metadata": {
  "kernelspec": {
   "display_name": "Python 3 (ipykernel)",
   "language": "python",
   "name": "python3"
  },
  "language_info": {
   "codemirror_mode": {
    "name": "ipython",
    "version": 3
   },
   "file_extension": ".py",
   "mimetype": "text/x-python",
   "name": "python",
   "nbconvert_exporter": "python",
   "pygments_lexer": "ipython3",
   "version": "3.13.2"
  }
 },
 "nbformat": 4,
 "nbformat_minor": 5
}
