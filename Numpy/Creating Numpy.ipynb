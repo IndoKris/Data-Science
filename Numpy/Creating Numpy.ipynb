{
 "cells": [
  {
   "cell_type": "code",
   "execution_count": 1,
   "id": "1fbc7ac2-0122-496b-92dc-5ffce4b3100b",
   "metadata": {},
   "outputs": [],
   "source": [
    "import numpy as np "
   ]
  },
  {
   "cell_type": "code",
   "execution_count": 2,
   "id": "004ceb33-de0e-433e-af88-ec8019bef06f",
   "metadata": {},
   "outputs": [
    {
     "name": "stdout",
     "output_type": "stream",
     "text": [
      "[  1   3  54  74 243]\n"
     ]
    }
   ],
   "source": [
    "arr = np.array([1,3,54,74,243]) #1D array \n",
    "print(arr)"
   ]
  },
  {
   "cell_type": "code",
   "execution_count": 3,
   "id": "ba63c024-f355-4941-9018-8c9b41068219",
   "metadata": {},
   "outputs": [
    {
     "name": "stdout",
     "output_type": "stream",
     "text": [
      "[[12 32 65]\n",
      " [24 75 83]]\n"
     ]
    }
   ],
   "source": [
    "arr2 = np.array([[12,32,65],[24,75,83]]) #2D array\n",
    "print(arr2)"
   ]
  },
  {
   "cell_type": "code",
   "execution_count": 4,
   "id": "22396dd2-d883-4087-9c5c-763549aac6b2",
   "metadata": {},
   "outputs": [
    {
     "name": "stdout",
     "output_type": "stream",
     "text": [
      "[[12 32 65]\n",
      " [24 75 83]\n",
      " [27 83 92]]\n"
     ]
    }
   ],
   "source": [
    "arr3 = np.array([[12,32,65],[24,75,83],[27,83,92]]) #3D array\n",
    "print(arr3)"
   ]
  },
  {
   "cell_type": "markdown",
   "id": "356b1918-c4d8-4441-bbd5-e34286c82cd8",
   "metadata": {},
   "source": [
    "# TYPES OF ARRAY "
   ]
  },
  {
   "cell_type": "code",
   "execution_count": 5,
   "id": "c00c8c4f-3d3f-495f-9cc8-b069aaf4b600",
   "metadata": {},
   "outputs": [
    {
     "name": "stdout",
     "output_type": "stream",
     "text": [
      "[[1. 0. 0.]\n",
      " [0. 1. 0.]\n",
      " [0. 0. 1.]]\n"
     ]
    }
   ],
   "source": [
    "#identity array / matrix\n",
    "arr = np.eye(3)\n",
    "print(arr)"
   ]
  },
  {
   "cell_type": "code",
   "execution_count": 6,
   "id": "c6253345-3145-4197-8258-e65f25ac6314",
   "metadata": {},
   "outputs": [
    {
     "name": "stdout",
     "output_type": "stream",
     "text": [
      "[0. 0. 0. 0. 0.]\n",
      "____________________________________________________________________________________________________\n",
      "[[0. 0. 0. 0.]\n",
      " [0. 0. 0. 0.]\n",
      " [0. 0. 0. 0.]]\n"
     ]
    }
   ],
   "source": [
    "#zero array\n",
    "print(np.zeros(5))\n",
    "print('_'*100)\n",
    "print(np.zeros((3,4)))"
   ]
  },
  {
   "cell_type": "code",
   "execution_count": 7,
   "id": "54daff61-2fdf-4e88-b12f-9abc3685b9a7",
   "metadata": {},
   "outputs": [
    {
     "data": {
      "text/plain": [
       "array([[69, 69, 69, 69, 69],\n",
       "       [69, 69, 69, 69, 69],\n",
       "       [69, 69, 69, 69, 69]])"
      ]
     },
     "execution_count": 7,
     "metadata": {},
     "output_type": "execute_result"
    }
   ],
   "source": [
    "# array full with a specific value \n",
    "np.full((3,5),69)"
   ]
  },
  {
   "cell_type": "code",
   "execution_count": 8,
   "id": "ba877581-2dd8-4ebe-9e49-34a4140bb2ab",
   "metadata": {},
   "outputs": [
    {
     "data": {
      "text/plain": [
       "array([ 1, 11, 21, 31, 41, 51, 61, 71, 81, 91])"
      ]
     },
     "execution_count": 8,
     "metadata": {},
     "output_type": "execute_result"
    }
   ],
   "source": [
    "# more like \"addition range\"\n",
    "np.arange(1, 100, 10) # [1, 3, 5, 7, 9] (like range)"
   ]
  },
  {
   "cell_type": "code",
   "execution_count": 9,
   "id": "654ee120-be65-498c-90f8-547944e6aae5",
   "metadata": {},
   "outputs": [
    {
     "data": {
      "text/plain": [
       "array([ 0.,  4.,  8., 12., 16., 20.])"
      ]
     },
     "execution_count": 9,
     "metadata": {},
     "output_type": "execute_result"
    }
   ],
   "source": [
    "np.linspace(0, 20,6) # (evenly spaced)"
   ]
  },
  {
   "cell_type": "markdown",
   "id": "1c0bba10-cab2-49de-bd21-2095263af864",
   "metadata": {},
   "source": [
    "# ARRAY PROPERTIES\n"
   ]
  },
  {
   "cell_type": "code",
   "execution_count": null,
   "id": "70e9f16c-c985-48f5-905d-cf5d092ac91d",
   "metadata": {},
   "outputs": [],
   "source": [
    "arr = np.array([[10, 20, 30], [40, 50, 60]])"
   ]
  },
  {
   "cell_type": "code",
   "execution_count": 12,
   "id": "e5bde700-7841-440b-b2da-452bc845c548",
   "metadata": {},
   "outputs": [
    {
     "data": {
      "text/plain": [
       "9"
      ]
     },
     "execution_count": 12,
     "metadata": {},
     "output_type": "execute_result"
    }
   ],
   "source": [
    "arr.size # does not contain parenthesis "
   ]
  },
  {
   "cell_type": "code",
   "execution_count": 16,
   "id": "05b41d41-5f30-457f-a78f-cd5c5e40bdea",
   "metadata": {},
   "outputs": [
    {
     "data": {
      "text/plain": [
       "dtype('float64')"
      ]
     },
     "execution_count": 16,
     "metadata": {},
     "output_type": "execute_result"
    }
   ],
   "source": [
    "arr.dtype # provides data type"
   ]
  },
  {
   "cell_type": "code",
   "execution_count": 17,
   "id": "31f51e22-4894-4c48-9850-2b82f2bf67d6",
   "metadata": {},
   "outputs": [
    {
     "data": {
      "text/plain": [
       "(3, 3)"
      ]
     },
     "execution_count": 17,
     "metadata": {},
     "output_type": "execute_result"
    }
   ],
   "source": [
    "arr.shape # gives the shape of array "
   ]
  },
  {
   "cell_type": "code",
   "execution_count": 18,
   "id": "968bfeae-2172-48df-8bc9-a231f3174523",
   "metadata": {},
   "outputs": [
    {
     "data": {
      "text/plain": [
       "2"
      ]
     },
     "execution_count": 18,
     "metadata": {},
     "output_type": "execute_result"
    }
   ],
   "source": [
    "arr.ndim # provides the dimensions"
   ]
  },
  {
   "cell_type": "markdown",
   "id": "08afd10a-abcd-4db8-9ac9-a0d90229f361",
   "metadata": {},
   "source": [
    "## Changing Data Types"
   ]
  },
  {
   "cell_type": "code",
   "execution_count": 19,
   "id": "59ca462f-e666-4611-b17a-6429deec4ffb",
   "metadata": {},
   "outputs": [],
   "source": [
    "arr = np.array([[10, 20, 30], [40, 50, 60]])"
   ]
  },
  {
   "cell_type": "code",
   "execution_count": 20,
   "id": "ce1660ae-63da-4fd6-b840-8c399da68aba",
   "metadata": {},
   "outputs": [
    {
     "data": {
      "text/plain": [
       "dtype('int64')"
      ]
     },
     "execution_count": 20,
     "metadata": {},
     "output_type": "execute_result"
    }
   ],
   "source": [
    "arr.dtype"
   ]
  },
  {
   "cell_type": "code",
   "execution_count": 21,
   "id": "b10bfddf-076d-4ea3-b1ff-46e6dc113cfd",
   "metadata": {},
   "outputs": [
    {
     "data": {
      "text/plain": [
       "array([[10, 20, 30],\n",
       "       [40, 50, 60]], dtype=int32)"
      ]
     },
     "execution_count": 21,
     "metadata": {},
     "output_type": "execute_result"
    }
   ],
   "source": [
    "arr.astype(np.int32)"
   ]
  },
  {
   "cell_type": "code",
   "execution_count": 24,
   "id": "268ad828-1d80-48f0-8e55-055e5a105c61",
   "metadata": {},
   "outputs": [
    {
     "name": "stdout",
     "output_type": "stream",
     "text": [
      "[1. 2. 3.]\n",
      "float32\n"
     ]
    }
   ],
   "source": [
    "arr = np.array([1, 2, 3], dtype=np.float32) \n",
    "print(arr)\n",
    "print(arr.dtype)"
   ]
  },
  {
   "cell_type": "markdown",
   "id": "725a415a-92bd-47e7-bd94-e69378822661",
   "metadata": {},
   "source": [
    "## Reshaping and Flattening Arrays"
   ]
  },
  {
   "cell_type": "code",
   "execution_count": 26,
   "id": "815a03e3-e630-4fbc-89e1-a3f0a83ab757",
   "metadata": {},
   "outputs": [],
   "source": [
    "arr = np.array([[20,325,32,53],[64,38,254,539]])"
   ]
  },
  {
   "cell_type": "code",
   "execution_count": 28,
   "id": "2a032a1a-6409-4688-bc72-561b2c12b9c6",
   "metadata": {},
   "outputs": [
    {
     "data": {
      "text/plain": [
       "(2, 4)"
      ]
     },
     "execution_count": 28,
     "metadata": {},
     "output_type": "execute_result"
    }
   ],
   "source": [
    "arr.shape"
   ]
  },
  {
   "cell_type": "code",
   "execution_count": 30,
   "id": "b48b1249-0666-4b13-b24d-36f707b1a5ec",
   "metadata": {},
   "outputs": [
    {
     "data": {
      "text/plain": [
       "array([[ 20],\n",
       "       [325],\n",
       "       [ 32],\n",
       "       [ 53],\n",
       "       [ 64],\n",
       "       [ 38],\n",
       "       [254],\n",
       "       [539]])"
      ]
     },
     "execution_count": 30,
     "metadata": {},
     "output_type": "execute_result"
    }
   ],
   "source": [
    "arr.reshape((8,1))"
   ]
  },
  {
   "cell_type": "code",
   "execution_count": 33,
   "id": "2b7af584-b006-448f-8b91-f1a36ac71f05",
   "metadata": {},
   "outputs": [
    {
     "name": "stdout",
     "output_type": "stream",
     "text": [
      "[[1 2 3]\n",
      " [4 5 6]]\n",
      "\n"
     ]
    },
    {
     "data": {
      "text/plain": [
       "array([[1, 2],\n",
       "       [3, 4],\n",
       "       [5, 6]])"
      ]
     },
     "execution_count": 33,
     "metadata": {},
     "output_type": "execute_result"
    }
   ],
   "source": [
    "arr = np.array([[1, 2, 3], [4, 5, 6]])\n",
    "print(arr)\n",
    "print()\n",
    "arr.reshape((3,2))"
   ]
  },
  {
   "cell_type": "code",
   "execution_count": 35,
   "id": "3703997c-c6b5-492f-b17c-673df577ca39",
   "metadata": {},
   "outputs": [
    {
     "name": "stdout",
     "output_type": "stream",
     "text": [
      "[1 2 3 4 5 6]\n"
     ]
    }
   ],
   "source": [
    "flattened = arr.flatten() # Convert 2D → 1D \n",
    "print(flattened)"
   ]
  },
  {
   "cell_type": "code",
   "execution_count": 36,
   "id": "059e2b8d-9415-45ad-9724-d784098fcf67",
   "metadata": {},
   "outputs": [
    {
     "name": "stdout",
     "output_type": "stream",
     "text": [
      "[1 2 3 4 5 6]\n"
     ]
    }
   ],
   "source": [
    "arr3 = np.array([[12,32,65],[24,75,83],[27,83,92]]) #3D array\n",
    "print(flattene)"
   ]
  },
  {
   "cell_type": "code",
   "execution_count": null,
   "id": "fb530e37-5da5-4253-89a0-6a3b023ddde8",
   "metadata": {},
   "outputs": [],
   "source": []
  }
 ],
 "metadata": {
  "kernelspec": {
   "display_name": "Python 3 (ipykernel)",
   "language": "python",
   "name": "python3"
  },
  "language_info": {
   "codemirror_mode": {
    "name": "ipython",
    "version": 3
   },
   "file_extension": ".py",
   "mimetype": "text/x-python",
   "name": "python",
   "nbconvert_exporter": "python",
   "pygments_lexer": "ipython3",
   "version": "3.13.2"
  }
 },
 "nbformat": 4,
 "nbformat_minor": 5
}
