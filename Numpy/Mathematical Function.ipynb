{
 "cells": [
  {
   "cell_type": "markdown",
   "id": "1f87cd8c-3354-4e56-86fe-d836877a4fc7",
   "metadata": {},
   "source": [
    "# Built in Mathematical Functions in NumPy\n",
    "- np.mean() – Compute the mean (average) of an array.\n",
    "- np.std() – Compute the standard deviation of an array.\n",
    "- np.var() – Compute the variance of an array.\n",
    "- np.min() – Compute the minimum value of an array.\n",
    "- np.max() – Compute the maximum value of an array.\n",
    "- np.sum() – Compute the sum of all elements in an array.\n",
    "- np.prod() – Compute the product of all elements in an array.\n",
    "- np.median() – Compute the median of an array.\n",
    "- np.percentile() – Compute the percentile of an array.\n",
    "- np.argmin() – Return the index of the minimum value in an array.\n",
    "- np.argmax() – Return the index of the maximum value in an array.\n",
    "- np.corrcoef() – Compute the correlation coefficient matrix of two arrays.\n",
    "- np.unique() – Find the unique elements of an array.\n",
    "- np.diff() – Compute the n-th differences of an array.\n",
    "- np.cumsum() – Compute the cumulative sum of an array.\n",
    "- np.linspace() - Create an array with evenly spaced numbers over a specified interval.\n",
    "- np.log() – Compute the natural logarithm of an array.\n",
    "- np.exp() – Compute the exponential of an array.\n",
    "  "
   ]
  },
  {
   "cell_type": "code",
   "execution_count": 3,
   "id": "4a493eaf-0807-4ceb-bcb5-53507e049dc5",
   "metadata": {},
   "outputs": [],
   "source": [
    "import numpy as np\n",
    "arr = np.array([12,84,92,1,2,73,-1])"
   ]
  },
  {
   "cell_type": "code",
   "execution_count": 4,
   "id": "190a97fd-7dd1-4495-a7b1-e8c6167cd882",
   "metadata": {},
   "outputs": [
    {
     "data": {
      "text/plain": [
       "-1"
      ]
     },
     "execution_count": 4,
     "metadata": {},
     "output_type": "execute_result"
    }
   ],
   "source": [
    "np.min(arr)"
   ]
  },
  {
   "cell_type": "code",
   "execution_count": 6,
   "id": "46d9643f-4446-4185-a7ce-78382709e05a",
   "metadata": {},
   "outputs": [
    {
     "data": {
      "text/plain": [
       "92"
      ]
     },
     "execution_count": 6,
     "metadata": {},
     "output_type": "execute_result"
    }
   ],
   "source": [
    "np.max(arr)"
   ]
  },
  {
   "cell_type": "code",
   "execution_count": 7,
   "id": "ef025e11-7c6f-4630-ac03-3a7dbcd2c60b",
   "metadata": {},
   "outputs": [
    {
     "data": {
      "text/plain": [
       "2.718281828459045"
      ]
     },
     "execution_count": 7,
     "metadata": {},
     "output_type": "execute_result"
    }
   ],
   "source": [
    "np.exp(1)"
   ]
  },
  {
   "cell_type": "code",
   "execution_count": 8,
   "id": "24cdf176-aecb-426b-9129-bd511e540b27",
   "metadata": {},
   "outputs": [
    {
     "data": {
      "text/plain": [
       "0.0"
      ]
     },
     "execution_count": 8,
     "metadata": {},
     "output_type": "execute_result"
    }
   ],
   "source": [
    "np.log(1)"
   ]
  },
  {
   "cell_type": "code",
   "execution_count": 9,
   "id": "a4848bce-7fea-48e6-98d6-97d901f00692",
   "metadata": {},
   "outputs": [
    {
     "data": {
      "text/plain": [
       "array([ 72,   8, -91,   1,  71, -74])"
      ]
     },
     "execution_count": 9,
     "metadata": {},
     "output_type": "execute_result"
    }
   ],
   "source": [
    "np.diff(arr)"
   ]
  },
  {
   "cell_type": "code",
   "execution_count": 10,
   "id": "11787de9-d5f6-4b4c-9a53-7ac19f1f81cc",
   "metadata": {},
   "outputs": [
    {
     "data": {
      "text/plain": [
       "array([-1,  1,  2, 12, 73, 84, 92])"
      ]
     },
     "execution_count": 10,
     "metadata": {},
     "output_type": "execute_result"
    }
   ],
   "source": [
    "np.unique(arr)"
   ]
  },
  {
   "cell_type": "code",
   "execution_count": 12,
   "id": "87da595c-d958-4ed5-8252-4790e4712567",
   "metadata": {},
   "outputs": [
    {
     "data": {
      "text/plain": [
       "12.0"
      ]
     },
     "execution_count": 12,
     "metadata": {},
     "output_type": "execute_result"
    }
   ],
   "source": [
    "np.median(arr)"
   ]
  },
  {
   "cell_type": "code",
   "execution_count": 13,
   "id": "4b3e61b0-2fb5-40b6-b196-7a9d40c04dfb",
   "metadata": {},
   "outputs": [
    {
     "data": {
      "text/plain": [
       "-13539456"
      ]
     },
     "execution_count": 13,
     "metadata": {},
     "output_type": "execute_result"
    }
   ],
   "source": [
    "np.prod(arr)"
   ]
  },
  {
   "cell_type": "code",
   "execution_count": 18,
   "id": "3f61822d-f543-4049-a9eb-828ab50256fe",
   "metadata": {},
   "outputs": [
    {
     "data": {
      "text/plain": [
       "12.0"
      ]
     },
     "execution_count": 18,
     "metadata": {},
     "output_type": "execute_result"
    }
   ],
   "source": [
    "np.percentile(arr,50)"
   ]
  },
  {
   "cell_type": "code",
   "execution_count": 16,
   "id": "632d32b3-05f0-4c55-a71c-3c75a7df1767",
   "metadata": {},
   "outputs": [
    {
     "data": {
      "text/plain": [
       "6"
      ]
     },
     "execution_count": 16,
     "metadata": {},
     "output_type": "execute_result"
    }
   ],
   "source": [
    "np.argmin(arr)"
   ]
  },
  {
   "cell_type": "code",
   "execution_count": 17,
   "id": "e9f7ec8c-0d43-49df-a53a-db1662c402a6",
   "metadata": {},
   "outputs": [
    {
     "data": {
      "text/plain": [
       "2"
      ]
     },
     "execution_count": 17,
     "metadata": {},
     "output_type": "execute_result"
    }
   ],
   "source": [
    "np.argmax(arr)"
   ]
  },
  {
   "cell_type": "code",
   "execution_count": 19,
   "id": "565650f6-bb26-4537-a42b-607c7eb0b410",
   "metadata": {},
   "outputs": [
    {
     "data": {
      "text/plain": [
       "92.0"
      ]
     },
     "execution_count": 19,
     "metadata": {},
     "output_type": "execute_result"
    }
   ],
   "source": [
    "np.percentile(arr,100)"
   ]
  }
 ],
 "metadata": {
  "kernelspec": {
   "display_name": "Python 3 (ipykernel)",
   "language": "python",
   "name": "python3"
  },
  "language_info": {
   "codemirror_mode": {
    "name": "ipython",
    "version": 3
   },
   "file_extension": ".py",
   "mimetype": "text/x-python",
   "name": "python",
   "nbconvert_exporter": "python",
   "pygments_lexer": "ipython3",
   "version": "3.12.7"
  }
 },
 "nbformat": 4,
 "nbformat_minor": 5
}
