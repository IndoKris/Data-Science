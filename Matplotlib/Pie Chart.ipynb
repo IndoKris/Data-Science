{
 "cells": [
  {
   "cell_type": "markdown",
   "id": "019bdbee-5083-4e2c-b050-0117be95895d",
   "metadata": {},
   "source": [
    "# PIE CHARTS\n"
   ]
  },
  {
   "cell_type": "code",
   "execution_count": null,
   "id": "f9b82c3c-965a-45d4-9eed-234a37a7c4f9",
   "metadata": {},
   "outputs": [],
   "source": []
  }
 ],
 "metadata": {
  "kernelspec": {
   "display_name": "Python 3 (ipykernel)",
   "language": "python",
   "name": "python3"
  },
  "language_info": {
   "codemirror_mode": {
    "name": "ipython",
    "version": 3
   },
   "file_extension": ".py",
   "mimetype": "text/x-python",
   "name": "python",
   "nbconvert_exporter": "python",
   "pygments_lexer": "ipython3",
   "version": "3.12.7"
  }
 },
 "nbformat": 4,
 "nbformat_minor": 5
}
