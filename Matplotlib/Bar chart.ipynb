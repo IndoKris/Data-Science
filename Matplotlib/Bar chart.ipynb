{
 "cells": [
  {
   "cell_type": "markdown",
   "id": "5e089680-22e1-4012-9b11-2bb9e5ac3eab",
   "metadata": {},
   "source": [
    "# BAR CHARTS"
   ]
  },
  {
   "cell_type": "code",
   "execution_count": null,
   "id": "e2b14d8d-8f20-4f18-90cc-f1af3baf0f38",
   "metadata": {},
   "outputs": [],
   "source": []
  }
 ],
 "metadata": {
  "kernelspec": {
   "display_name": "Python 3 (ipykernel)",
   "language": "python",
   "name": "python3"
  },
  "language_info": {
   "codemirror_mode": {
    "name": "ipython",
    "version": 3
   },
   "file_extension": ".py",
   "mimetype": "text/x-python",
   "name": "python",
   "nbconvert_exporter": "python",
   "pygments_lexer": "ipython3",
   "version": "3.12.7"
  }
 },
 "nbformat": 4,
 "nbformat_minor": 5
}
