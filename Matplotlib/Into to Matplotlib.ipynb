{
 "cells": [
  {
   "cell_type": "markdown",
   "id": "ebe080a2-1dbf-42d4-9ef5-f436f76b952b",
   "metadata": {},
   "source": [
    "# Data Visualization\n",
    "## Introduction to Matplotlib "
   ]
  },
  {
   "cell_type": "code",
   "execution_count": null,
   "id": "d41b9c2c-546b-4178-a0fc-62f973c46b14",
   "metadata": {},
   "outputs": [],
   "source": []
  }
 ],
 "metadata": {
  "kernelspec": {
   "display_name": "Python 3 (ipykernel)",
   "language": "python",
   "name": "python3"
  },
  "language_info": {
   "codemirror_mode": {
    "name": "ipython",
    "version": 3
   },
   "file_extension": ".py",
   "mimetype": "text/x-python",
   "name": "python",
   "nbconvert_exporter": "python",
   "pygments_lexer": "ipython3",
   "version": "3.12.7"
  }
 },
 "nbformat": 4,
 "nbformat_minor": 5
}
