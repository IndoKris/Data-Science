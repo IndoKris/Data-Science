{
 "cells": [
  {
   "cell_type": "markdown",
   "id": "f3e1ae2f-a4c7-4c97-8ba2-35ab104f1fc9",
   "metadata": {},
   "source": [
    "# Stack Plots\n",
    "## A Stack Plot is a type of area chart that helps visualize multiple quantities over time, stacked on top of each other.\n",
    "## It's especially useful to see how individual parts contribute to a whole over time."
   ]
  },
  {
   "cell_type": "code",
   "execution_count": null,
   "id": "e0d0a53d-7cde-4dfd-a880-8674218f5604",
   "metadata": {},
   "outputs": [],
   "source": []
  }
 ],
 "metadata": {
  "kernelspec": {
   "display_name": "Python 3 (ipykernel)",
   "language": "python",
   "name": "python3"
  },
  "language_info": {
   "codemirror_mode": {
    "name": "ipython",
    "version": 3
   },
   "file_extension": ".py",
   "mimetype": "text/x-python",
   "name": "python",
   "nbconvert_exporter": "python",
   "pygments_lexer": "ipython3",
   "version": "3.12.7"
  }
 },
 "nbformat": 4,
 "nbformat_minor": 5
}
