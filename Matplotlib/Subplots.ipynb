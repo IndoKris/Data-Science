{
 "cells": [
  {
   "cell_type": "markdown",
   "id": "ce1b2e5f-ea28-4833-851b-85d11cb4e30f",
   "metadata": {},
   "source": [
    "## Subplots in Matplotlib\n",
    "- Subplots allow you to show multiple plots in a single figure, side-by-side or in a grid layout."
   ]
  },
  {
   "cell_type": "code",
   "execution_count": null,
   "id": "c68bcbae-2753-4881-a69b-ae3ab184be57",
   "metadata": {},
   "outputs": [],
   "source": []
  }
 ],
 "metadata": {
  "kernelspec": {
   "display_name": "Python 3 (ipykernel)",
   "language": "python",
   "name": "python3"
  },
  "language_info": {
   "codemirror_mode": {
    "name": "ipython",
    "version": 3
   },
   "file_extension": ".py",
   "mimetype": "text/x-python",
   "name": "python",
   "nbconvert_exporter": "python",
   "pygments_lexer": "ipython3",
   "version": "3.12.7"
  }
 },
 "nbformat": 4,
 "nbformat_minor": 5
}
